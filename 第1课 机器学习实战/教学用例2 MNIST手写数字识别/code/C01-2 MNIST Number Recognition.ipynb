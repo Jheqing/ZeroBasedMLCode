{
 "metadata": {
  "kernelspec": {
   "language": "python",
   "display_name": "Python 3",
   "name": "python3"
  },
  "language_info": {
   "name": "python",
   "version": "3.7.12",
   "mimetype": "text/x-python",
   "codemirror_mode": {
    "name": "ipython",
    "version": 3
   },
   "pygments_lexer": "ipython3",
   "nbconvert_exporter": "python",
   "file_extension": ".py"
  }
 },
 "nbformat_minor": 4,
 "nbformat": 4,
 "cells": [
  {
   "cell_type": "code",
   "source": [
    "import numpy as np # 导入NumPy数学工具箱\n",
    "import pandas as pd # 导入Pandas数据处理工具箱\n",
    "from keras.datasets import mnist #从Keras中导入mnist数据集\n",
    "#读入训练集和测试集\n",
    "(X_train_image, y_train_lable), (X_test_image, y_test_lable) =  mnist.load_data() "
   ],
   "metadata": {
    "execution": {
     "iopub.status.busy": "2021-12-08T15:27:23.028741Z",
     "iopub.execute_input": "2021-12-08T15:27:23.030384Z",
     "iopub.status.idle": "2021-12-08T15:27:24.458099Z",
     "shell.execute_reply.started": "2021-12-08T15:27:23.030305Z",
     "shell.execute_reply": "2021-12-08T15:27:24.457070Z"
    },
    "trusted": true,
    "ExecuteTime": {
     "end_time": "2025-03-20T07:37:41.874149800Z",
     "start_time": "2025-03-20T07:37:40.056889900Z"
    }
   },
   "execution_count": 1,
   "outputs": [
    {
     "ename": "ModuleNotFoundError",
     "evalue": "No module named 'keras'",
     "output_type": "error",
     "traceback": [
      "\u001B[1;31m---------------------------------------------------------------------------\u001B[0m",
      "\u001B[1;31mModuleNotFoundError\u001B[0m                       Traceback (most recent call last)",
      "Cell \u001B[1;32mIn[1], line 3\u001B[0m\n\u001B[0;32m      1\u001B[0m \u001B[38;5;28;01mimport\u001B[39;00m \u001B[38;5;21;01mnumpy\u001B[39;00m \u001B[38;5;28;01mas\u001B[39;00m \u001B[38;5;21;01mnp\u001B[39;00m \u001B[38;5;66;03m# 导入NumPy数学工具箱\u001B[39;00m\n\u001B[0;32m      2\u001B[0m \u001B[38;5;28;01mimport\u001B[39;00m \u001B[38;5;21;01mpandas\u001B[39;00m \u001B[38;5;28;01mas\u001B[39;00m \u001B[38;5;21;01mpd\u001B[39;00m \u001B[38;5;66;03m# 导入Pandas数据处理工具箱\u001B[39;00m\n\u001B[1;32m----> 3\u001B[0m \u001B[38;5;28;01mfrom\u001B[39;00m \u001B[38;5;21;01mkeras\u001B[39;00m\u001B[38;5;21;01m.\u001B[39;00m\u001B[38;5;21;01mdatasets\u001B[39;00m \u001B[38;5;28;01mimport\u001B[39;00m mnist \u001B[38;5;66;03m#从Keras中导入mnist数据集\u001B[39;00m\n\u001B[0;32m      4\u001B[0m \u001B[38;5;66;03m#读入训练集和测试集\u001B[39;00m\n\u001B[0;32m      5\u001B[0m (X_train_image, y_train_lable), (X_test_image, y_test_lable) \u001B[38;5;241m=\u001B[39m  mnist\u001B[38;5;241m.\u001B[39mload_data() \n",
      "\u001B[1;31mModuleNotFoundError\u001B[0m: No module named 'keras'"
     ]
    }
   ]
  },
  {
   "cell_type": "code",
   "source": [
    "print (\"特征集张量形状：\", X_train_image.shape) #用shape方法显示张量的形状\n",
    "print (\"第一个数据样本：\\n\", X_train_image[0]) #注意Python的索引是从0开始的"
   ],
   "metadata": {
    "execution": {
     "iopub.status.busy": "2021-12-08T15:27:24.460267Z",
     "iopub.execute_input": "2021-12-08T15:27:24.460586Z",
     "iopub.status.idle": "2021-12-08T15:27:24.470512Z",
     "shell.execute_reply.started": "2021-12-08T15:27:24.460524Z",
     "shell.execute_reply": "2021-12-08T15:27:24.469599Z"
    },
    "trusted": true
   },
   "execution_count": 3,
   "outputs": []
  },
  {
   "cell_type": "code",
   "source": [
    "print (\"第一个数据样本的标签：\", y_train_lable[0])"
   ],
   "metadata": {
    "execution": {
     "iopub.status.busy": "2021-12-08T15:27:24.471882Z",
     "iopub.execute_input": "2021-12-08T15:27:24.472332Z",
     "iopub.status.idle": "2021-12-08T15:27:24.482351Z",
     "shell.execute_reply.started": "2021-12-08T15:27:24.472297Z",
     "shell.execute_reply": "2021-12-08T15:27:24.481251Z"
    },
    "trusted": true
   },
   "execution_count": 4,
   "outputs": []
  },
  {
   "cell_type": "code",
   "source": [
    "from tensorflow.keras.utils import to_categorical # 导入keras.utils工具箱的类别转换工具\n",
    "X_train = X_train_image.reshape(60000,28,28,1) # 给标签增加一个维度\n",
    "X_test = X_test_image.reshape(10000,28,28,1) # 给标签增加一个维度\n",
    "y_train = to_categorical(y_train_lable, 10) # 特征转换为one-hot编码\n",
    "y_test = to_categorical(y_test_lable, 10) # 特征转换为one-hot编码\n",
    "print (\"数据集张量形状：\", X_train.shape) # 特征集张量的形状\n",
    "print (\"第一个数据标签：\",y_train[0]) # 显示标签集的第一个数据"
   ],
   "metadata": {
    "execution": {
     "iopub.status.busy": "2021-12-08T15:27:24.483488Z",
     "iopub.execute_input": "2021-12-08T15:27:24.483864Z",
     "iopub.status.idle": "2021-12-08T15:27:24.502648Z",
     "shell.execute_reply.started": "2021-12-08T15:27:24.483833Z",
     "shell.execute_reply": "2021-12-08T15:27:24.501625Z"
    },
    "trusted": true
   },
   "execution_count": 5,
   "outputs": []
  },
  {
   "cell_type": "code",
   "source": [
    "from keras import models # 导入Keras模型, 和各种神经网络的层\n",
    "from keras.layers import Dense, Dropout, Flatten, Conv2D, MaxPooling2D\n",
    "model = models.Sequential() # 用序贯方式建立模型\n",
    "model.add(Conv2D(32, (3, 3), activation='relu', # 添加Conv2D层\n",
    "                 input_shape=(28,28,1))) # 指定输入数据样本张量的类型\n",
    "model.add(MaxPooling2D(pool_size=(2, 2))) # 添加MaxPooling2D层\n",
    "model.add(Conv2D(64, (3, 3), activation='relu')) # 添加Conv2D层\n",
    "model.add(MaxPooling2D(pool_size=(2, 2))) # 添加MaxPooling2D层\n",
    "model.add(Dropout(0.25)) # 添加Dropout层\n",
    "model.add(Flatten()) # 展平\n",
    "model.add(Dense(128, activation='relu')) # 添加全连接层\n",
    "model.add(Dropout(0.5)) # 添加Dropout层\n",
    "model.add(Dense(10, activation='softmax')) # Softmax分类激活，输出10维分类码\n",
    "# 编译模型\n",
    "model.compile(optimizer='rmsprop', # 指定优化器\n",
    "              loss='categorical_crossentropy', # 指定损失函数\n",
    "              metrics=['accuracy']) # 指定验证过程中的评估指标"
   ],
   "metadata": {
    "execution": {
     "iopub.status.busy": "2021-12-08T15:27:24.505123Z",
     "iopub.execute_input": "2021-12-08T15:27:24.505442Z",
     "iopub.status.idle": "2021-12-08T15:27:24.728576Z",
     "shell.execute_reply.started": "2021-12-08T15:27:24.505400Z",
     "shell.execute_reply": "2021-12-08T15:27:24.727703Z"
    },
    "trusted": true
   },
   "execution_count": 6,
   "outputs": []
  },
  {
   "cell_type": "code",
   "source": [
    "model.fit(X_train, y_train, # 指定训练特征集和训练标签集\n",
    "          validation_split = 0.3, # 部分训练集数据拆分成验证集\n",
    "          epochs=5, # 训练轮次为5轮\n",
    "          batch_size=128) # 以128为批量进行训练"
   ],
   "metadata": {
    "execution": {
     "iopub.status.busy": "2021-12-08T15:27:24.730039Z",
     "iopub.execute_input": "2021-12-08T15:27:24.730300Z",
     "iopub.status.idle": "2021-12-08T15:28:26.373105Z",
     "shell.execute_reply.started": "2021-12-08T15:27:24.730270Z",
     "shell.execute_reply": "2021-12-08T15:28:26.372436Z"
    },
    "trusted": true
   },
   "execution_count": 7,
   "outputs": []
  },
  {
   "cell_type": "code",
   "source": [
    "score = model.evaluate(X_test, y_test) # 在测试集上进行模型评估\n",
    "print('测试集预测准确率:', score[1]) # 打印测试集上的预测准确率"
   ],
   "metadata": {
    "execution": {
     "iopub.status.busy": "2021-12-08T15:28:26.374196Z",
     "iopub.execute_input": "2021-12-08T15:28:26.374726Z",
     "iopub.status.idle": "2021-12-08T15:28:27.672944Z",
     "shell.execute_reply.started": "2021-12-08T15:28:26.374692Z",
     "shell.execute_reply": "2021-12-08T15:28:27.672214Z"
    },
    "trusted": true
   },
   "execution_count": 8,
   "outputs": []
  },
  {
   "cell_type": "code",
   "source": [
    "pred = model.predict(X_test[0].reshape(1, 28, 28, 1)) # 预测测试集第一个数据\n",
    "print(pred[0],\"转换一下格式得到：\",pred.argmax()) # 把one-hot码转换为数字\n",
    "import matplotlib.pyplot as plt # 导入绘图工具包\n",
    "plt.imshow(X_test[0].reshape(28, 28),cmap='Greys') # 输出这个图片"
   ],
   "metadata": {
    "execution": {
     "iopub.status.busy": "2021-12-08T15:28:27.674063Z",
     "iopub.execute_input": "2021-12-08T15:28:27.674302Z",
     "iopub.status.idle": "2021-12-08T15:28:28.051820Z",
     "shell.execute_reply.started": "2021-12-08T15:28:27.674274Z",
     "shell.execute_reply": "2021-12-08T15:28:28.051054Z"
    },
    "trusted": true
   },
   "execution_count": 9,
   "outputs": []
  }
 ]
}
