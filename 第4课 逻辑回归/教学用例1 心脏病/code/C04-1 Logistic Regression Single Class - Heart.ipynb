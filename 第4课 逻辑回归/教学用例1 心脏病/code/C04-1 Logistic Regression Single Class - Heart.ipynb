{
 "metadata": {
  "kernelspec": {
   "language": "python",
   "display_name": "Python 3",
   "name": "python3"
  },
  "language_info": {
   "name": "python",
   "version": "3.7.12",
   "mimetype": "text/x-python",
   "codemirror_mode": {
    "name": "ipython",
    "version": 3
   },
   "pygments_lexer": "ipython3",
   "nbconvert_exporter": "python",
   "file_extension": ".py"
  }
 },
 "nbformat_minor": 4,
 "nbformat": 4,
 "cells": [
  {
   "cell_type": "code",
   "source": [
    "import numpy as np # 导入NumPy数学工具箱\n",
    "import pandas as pd # 导入Pandas数据处理工具箱\n",
    "df_heart = pd.read_csv(\"../Data/heart.csv\")  # 读取文件\n",
    "df_heart.head() # 显示前5行数据"
   ],
   "metadata": {
    "execution": {
     "iopub.status.busy": "2021-12-09T09:11:05.554596Z",
     "iopub.execute_input": "2021-12-09T09:11:05.554965Z",
     "iopub.status.idle": "2021-12-09T09:11:05.618934Z",
     "shell.execute_reply.started": "2021-12-09T09:11:05.554873Z",
     "shell.execute_reply": "2021-12-09T09:11:05.618251Z"
    },
    "trusted": true,
    "ExecuteTime": {
     "end_time": "2025-03-25T06:06:56.860318900Z",
     "start_time": "2025-03-25T06:06:55.333504100Z"
    }
   },
   "execution_count": 1,
   "outputs": [
    {
     "data": {
      "text/plain": "   age  sex  cp  trestbps  chol  fbs  restecg  thalach  exang  oldpeak  slope  \\\n0   63    1   3       145   233    1        0      150      0      2.3      0   \n1   37    1   2       130   250    0        1      187      0      3.5      0   \n2   41    0   1       130   204    0        0      172      0      1.4      2   \n3   56    1   1       120   236    0        1      178      0      0.8      2   \n4   57    0   0       120   354    0        1      163      1      0.6      2   \n\n   ca  thal  target  \n0   0     1       1  \n1   0     2       1  \n2   0     2       1  \n3   0     2       1  \n4   0     2       1  ",
      "text/html": "<div>\n<style scoped>\n    .dataframe tbody tr th:only-of-type {\n        vertical-align: middle;\n    }\n\n    .dataframe tbody tr th {\n        vertical-align: top;\n    }\n\n    .dataframe thead th {\n        text-align: right;\n    }\n</style>\n<table border=\"1\" class=\"dataframe\">\n  <thead>\n    <tr style=\"text-align: right;\">\n      <th></th>\n      <th>age</th>\n      <th>sex</th>\n      <th>cp</th>\n      <th>trestbps</th>\n      <th>chol</th>\n      <th>fbs</th>\n      <th>restecg</th>\n      <th>thalach</th>\n      <th>exang</th>\n      <th>oldpeak</th>\n      <th>slope</th>\n      <th>ca</th>\n      <th>thal</th>\n      <th>target</th>\n    </tr>\n  </thead>\n  <tbody>\n    <tr>\n      <th>0</th>\n      <td>63</td>\n      <td>1</td>\n      <td>3</td>\n      <td>145</td>\n      <td>233</td>\n      <td>1</td>\n      <td>0</td>\n      <td>150</td>\n      <td>0</td>\n      <td>2.3</td>\n      <td>0</td>\n      <td>0</td>\n      <td>1</td>\n      <td>1</td>\n    </tr>\n    <tr>\n      <th>1</th>\n      <td>37</td>\n      <td>1</td>\n      <td>2</td>\n      <td>130</td>\n      <td>250</td>\n      <td>0</td>\n      <td>1</td>\n      <td>187</td>\n      <td>0</td>\n      <td>3.5</td>\n      <td>0</td>\n      <td>0</td>\n      <td>2</td>\n      <td>1</td>\n    </tr>\n    <tr>\n      <th>2</th>\n      <td>41</td>\n      <td>0</td>\n      <td>1</td>\n      <td>130</td>\n      <td>204</td>\n      <td>0</td>\n      <td>0</td>\n      <td>172</td>\n      <td>0</td>\n      <td>1.4</td>\n      <td>2</td>\n      <td>0</td>\n      <td>2</td>\n      <td>1</td>\n    </tr>\n    <tr>\n      <th>3</th>\n      <td>56</td>\n      <td>1</td>\n      <td>1</td>\n      <td>120</td>\n      <td>236</td>\n      <td>0</td>\n      <td>1</td>\n      <td>178</td>\n      <td>0</td>\n      <td>0.8</td>\n      <td>2</td>\n      <td>0</td>\n      <td>2</td>\n      <td>1</td>\n    </tr>\n    <tr>\n      <th>4</th>\n      <td>57</td>\n      <td>0</td>\n      <td>0</td>\n      <td>120</td>\n      <td>354</td>\n      <td>0</td>\n      <td>1</td>\n      <td>163</td>\n      <td>1</td>\n      <td>0.6</td>\n      <td>2</td>\n      <td>0</td>\n      <td>2</td>\n      <td>1</td>\n    </tr>\n  </tbody>\n</table>\n</div>"
     },
     "execution_count": 1,
     "metadata": {},
     "output_type": "execute_result"
    }
   ]
  },
  {
   "cell_type": "code",
   "source": [
    "df_heart.target.value_counts() # 输出分类值，及各个类别数目"
   ],
   "metadata": {
    "execution": {
     "iopub.status.busy": "2021-12-09T09:11:05.620799Z",
     "iopub.execute_input": "2021-12-09T09:11:05.621739Z",
     "iopub.status.idle": "2021-12-09T09:11:05.636328Z",
     "shell.execute_reply.started": "2021-12-09T09:11:05.621685Z",
     "shell.execute_reply": "2021-12-09T09:11:05.635391Z"
    },
    "trusted": true,
    "ExecuteTime": {
     "end_time": "2025-03-25T06:07:24.208672800Z",
     "start_time": "2025-03-25T06:07:24.169623400Z"
    }
   },
   "execution_count": 2,
   "outputs": [
    {
     "data": {
      "text/plain": "target\n1    165\n0    138\nName: count, dtype: int64"
     },
     "execution_count": 2,
     "metadata": {},
     "output_type": "execute_result"
    }
   ]
  },
  {
   "cell_type": "code",
   "source": [
    "import matplotlib.pyplot as plt # 导入绘图工具\n",
    "# 以年龄+最大心率作为输入，查看分类结果散点图\n",
    "plt.scatter(x=df_heart.age[df_heart.target==1],\n",
    "            y=df_heart.thalach[(df_heart.target==1)], c=\"red\")\n",
    "plt.scatter(x=df_heart.age[df_heart.target==0],\n",
    "            y=df_heart.thalach[(df_heart.target==0)], marker='^')\n",
    "plt.legend([\"Disease\", \"No Disease\"]) # 显示图例\n",
    "plt.xlabel(\"Age\") # X轴-Age\n",
    "plt.ylabel(\"Heart Rate\") # Y轴-Heart Rate\n",
    "plt.show() # 显示散点图"
   ],
   "metadata": {
    "execution": {
     "iopub.status.busy": "2021-12-09T09:11:05.638478Z",
     "iopub.execute_input": "2021-12-09T09:11:05.639167Z",
     "iopub.status.idle": "2021-12-09T09:11:05.932135Z",
     "shell.execute_reply.started": "2021-12-09T09:11:05.639113Z",
     "shell.execute_reply": "2021-12-09T09:11:05.930933Z"
    },
    "trusted": true,
    "ExecuteTime": {
     "end_time": "2025-03-25T06:07:44.341986600Z",
     "start_time": "2025-03-25T06:07:43.206232600Z"
    }
   },
   "execution_count": 3,
   "outputs": [
    {
     "data": {
      "text/plain": "<Figure size 640x480 with 1 Axes>",
      "image/png": "[encoded data removed]"
     },
     "metadata": {},
     "output_type": "display_data"
    }
   ]
  },
  {
   "cell_type": "code",
   "source": [
    "# 把3个文本型变量转换为哑变量\n",
    "a = pd.get_dummies(df_heart['cp'], prefix = \"cp\")\n",
    "b = pd.get_dummies(df_heart['thal'], prefix = \"thal\")\n",
    "c = pd.get_dummies(df_heart['slope'], prefix = \"slope\")\n",
    "# 把哑变量添加进dataframe\n",
    "frames = [df_heart, a, b, c]\n",
    "df_heart = pd.concat(frames, axis = 1)\n",
    "df_heart = df_heart.drop(columns = ['cp', 'thal', 'slope'])\n",
    "df_heart.head() # 显示新的dataframe"
   ],
   "metadata": {
    "execution": {
     "iopub.status.busy": "2021-12-09T09:11:05.934432Z",
     "iopub.execute_input": "2021-12-09T09:11:05.934733Z",
     "iopub.status.idle": "2021-12-09T09:11:06.095005Z",
     "shell.execute_reply.started": "2021-12-09T09:11:05.934698Z",
     "shell.execute_reply": "2021-12-09T09:11:06.093987Z"
    },
    "trusted": true,
    "ExecuteTime": {
     "end_time": "2025-03-25T06:07:58.901652500Z",
     "start_time": "2025-03-25T06:07:58.847588300Z"
    }
   },
   "execution_count": 4,
   "outputs": [
    {
     "data": {
      "text/plain": "   age  sex  trestbps  chol  fbs  restecg  thalach  exang  oldpeak  ca  ...  \\\n0   63    1       145   233    1        0      150      0      2.3   0  ...   \n1   37    1       130   250    0        1      187      0      3.5   0  ...   \n2   41    0       130   204    0        0      172      0      1.4   0  ...   \n3   56    1       120   236    0        1      178      0      0.8   0  ...   \n4   57    0       120   354    0        1      163      1      0.6   0  ...   \n\n    cp_1   cp_2   cp_3  thal_0  thal_1  thal_2  thal_3  slope_0  slope_1  \\\n0  False  False   True   False    True   False   False     True    False   \n1  False   True  False   False   False    True   False     True    False   \n2   True  False  False   False   False    True   False    False    False   \n3   True  False  False   False   False    True   False    False    False   \n4  False  False  False   False   False    True   False    False    False   \n\n   slope_2  \n0    False  \n1    False  \n2     True  \n3     True  \n4     True  \n\n[5 rows x 22 columns]",
      "text/html": "<div>\n<style scoped>\n    .dataframe tbody tr th:only-of-type {\n        vertical-align: middle;\n    }\n\n    .dataframe tbody tr th {\n        vertical-align: top;\n    }\n\n    .dataframe thead th {\n        text-align: right;\n    }\n</style>\n<table border=\"1\" class=\"dataframe\">\n  <thead>\n    <tr style=\"text-align: right;\">\n      <th></th>\n      <th>age</th>\n      <th>sex</th>\n      <th>trestbps</th>\n      <th>chol</th>\n      <th>fbs</th>\n      <th>restecg</th>\n      <th>thalach</th>\n      <th>exang</th>\n      <th>oldpeak</th>\n      <th>ca</th>\n      <th>...</th>\n      <th>cp_1</th>\n      <th>cp_2</th>\n      <th>cp_3</th>\n      <th>thal_0</th>\n      <th>thal_1</th>\n      <th>thal_2</th>\n      <th>thal_3</th>\n      <th>slope_0</th>\n      <th>slope_1</th>\n      <th>slope_2</th>\n    </tr>\n  </thead>\n  <tbody>\n    <tr>\n      <th>0</th>\n      <td>63</td>\n      <td>1</td>\n      <td>145</td>\n      <td>233</td>\n      <td>1</td>\n      <td>0</td>\n      <td>150</td>\n      <td>0</td>\n      <td>2.3</td>\n      <td>0</td>\n      <td>...</td>\n      <td>False</td>\n      <td>False</td>\n      <td>True</td>\n      <td>False</td>\n      <td>True</td>\n      <td>False</td>\n      <td>False</td>\n      <td>True</td>\n      <td>False</td>\n      <td>False</td>\n    </tr>\n    <tr>\n      <th>1</th>\n      <td>37</td>\n      <td>1</td>\n      <td>130</td>\n      <td>250</td>\n      <td>0</td>\n      <td>1</td>\n      <td>187</td>\n      <td>0</td>\n      <td>3.5</td>\n      <td>0</td>\n      <td>...</td>\n      <td>False</td>\n      <td>True</td>\n      <td>False</td>\n      <td>False</td>\n      <td>False</td>\n      <td>True</td>\n      <td>False</td>\n      <td>True</td>\n      <td>False</td>\n      <td>False</td>\n    </tr>\n    <tr>\n      <th>2</th>\n      <td>41</td>\n      <td>0</td>\n      <td>130</td>\n      <td>204</td>\n      <td>0</td>\n      <td>0</td>\n      <td>172</td>\n      <td>0</td>\n      <td>1.4</td>\n      <td>0</td>\n      <td>...</td>\n      <td>True</td>\n      <td>False</td>\n      <td>False</td>\n      <td>False</td>\n      <td>False</td>\n      <td>True</td>\n      <td>False</td>\n      <td>False</td>\n      <td>False</td>\n      <td>True</td>\n    </tr>\n    <tr>\n      <th>3</th>\n      <td>56</td>\n      <td>1</td>\n      <td>120</td>\n      <td>236</td>\n      <td>0</td>\n      <td>1</td>\n      <td>178</td>\n      <td>0</td>\n      <td>0.8</td>\n      <td>0</td>\n      <td>...</td>\n      <td>True</td>\n      <td>False</td>\n      <td>False</td>\n      <td>False</td>\n      <td>False</td>\n      <td>True</td>\n      <td>False</td>\n      <td>False</td>\n      <td>False</td>\n      <td>True</td>\n    </tr>\n    <tr>\n      <th>4</th>\n      <td>57</td>\n      <td>0</td>\n      <td>120</td>\n      <td>354</td>\n      <td>0</td>\n      <td>1</td>\n      <td>163</td>\n      <td>1</td>\n      <td>0.6</td>\n      <td>0</td>\n      <td>...</td>\n      <td>False</td>\n      <td>False</td>\n      <td>False</td>\n      <td>False</td>\n      <td>False</td>\n      <td>True</td>\n      <td>False</td>\n      <td>False</td>\n      <td>False</td>\n      <td>True</td>\n    </tr>\n  </tbody>\n</table>\n<p>5 rows × 22 columns</p>\n</div>"
     },
     "execution_count": 4,
     "metadata": {},
     "output_type": "execute_result"
    }
   ]
  },
  {
   "cell_type": "code",
   "source": [
    "X = df_heart.drop(['target'], axis = 1) # 构建特征集\n",
    "y = df_heart.target.values # 构建标签集\n",
    "y = y.reshape(-1,1) # -1是\t相对索引，等价于len(y)\n",
    "print(\"张量X的形状:\", X.shape)\n",
    "print(\"张量X的形状:\", y.shape)"
   ],
   "metadata": {
    "execution": {
     "iopub.status.busy": "2021-12-09T09:11:06.096360Z",
     "iopub.execute_input": "2021-12-09T09:11:06.097343Z",
     "iopub.status.idle": "2021-12-09T09:11:06.107551Z",
     "shell.execute_reply.started": "2021-12-09T09:11:06.097289Z",
     "shell.execute_reply": "2021-12-09T09:11:06.106362Z"
    },
    "trusted": true,
    "ExecuteTime": {
     "end_time": "2025-03-25T06:08:36.840725Z",
     "start_time": "2025-03-25T06:08:36.818849700Z"
    }
   },
   "execution_count": 5,
   "outputs": [
    {
     "name": "stdout",
     "output_type": "stream",
     "text": [
      "张量X的形状: (303, 21)\n",
      "张量X的形状: (303, 1)\n"
     ]
    }
   ]
  },
  {
   "cell_type": "code",
   "source": [
    "from sklearn.model_selection import train_test_split\n",
    "X_train, X_test, y_train, y_test = train_test_split(X,y,test_size = 0.2)"
   ],
   "metadata": {
    "execution": {
     "iopub.status.busy": "2021-12-09T09:11:06.108799Z",
     "iopub.execute_input": "2021-12-09T09:11:06.109156Z",
     "iopub.status.idle": "2021-12-09T09:11:07.168409Z",
     "shell.execute_reply.started": "2021-12-09T09:11:06.109110Z",
     "shell.execute_reply": "2021-12-09T09:11:07.167501Z"
    },
    "trusted": true,
    "ExecuteTime": {
     "end_time": "2025-03-25T06:09:46.364818300Z",
     "start_time": "2025-03-25T06:09:43.794320Z"
    }
   },
   "execution_count": 6,
   "outputs": []
  },
  {
   "cell_type": "code",
   "source": [
    "from sklearn.preprocessing import MinMaxScaler # 导入数据缩放器\n",
    "scaler = MinMaxScaler() # 选择归一化数据缩放器，MinMaxScaler\n",
    "X_train = scaler.fit_transform(X_train) # 特征归一化 训练集fit_transform\n",
    "X_test = scaler.transform(X_test) # 特征归一化 测试集transform"
   ],
   "metadata": {
    "execution": {
     "iopub.status.busy": "2021-12-09T09:11:07.169523Z",
     "iopub.execute_input": "2021-12-09T09:11:07.169745Z",
     "iopub.status.idle": "2021-12-09T09:11:07.182016Z",
     "shell.execute_reply.started": "2021-12-09T09:11:07.169719Z",
     "shell.execute_reply": "2021-12-09T09:11:07.181316Z"
    },
    "trusted": true,
    "ExecuteTime": {
     "end_time": "2025-03-25T06:09:54.247229200Z",
     "start_time": "2025-03-25T06:09:54.219688Z"
    }
   },
   "execution_count": 7,
   "outputs": []
  },
  {
   "cell_type": "code",
   "source": [
    "# 首先定义一个Sigmoid函数，输入Z，返回y'\n",
    "def sigmoid(z):    \n",
    "    y_hat = 1/(1+ np.exp(-z))\n",
    "    return y_hat    "
   ],
   "metadata": {
    "execution": {
     "iopub.status.busy": "2021-12-09T09:11:07.183104Z",
     "iopub.execute_input": "2021-12-09T09:11:07.183348Z",
     "iopub.status.idle": "2021-12-09T09:11:07.193595Z",
     "shell.execute_reply.started": "2021-12-09T09:11:07.183319Z",
     "shell.execute_reply": "2021-12-09T09:11:07.192463Z"
    },
    "trusted": true,
    "ExecuteTime": {
     "end_time": "2025-03-25T06:10:26.979308700Z",
     "start_time": "2025-03-25T06:10:26.955016200Z"
    }
   },
   "execution_count": 8,
   "outputs": []
  },
  {
   "cell_type": "code",
   "source": [
    "# 然后定义损失函数\n",
    "def loss_function(X,y,w,b):\n",
    "    y_hat = sigmoid(np.dot(X,w) + b) # Sigmoid逻辑函数 + 线性函数(wX+b)得到y'\n",
    "    loss = -(y*np.log(y_hat) + (1-y)*np.log(1-y_hat)) # 计算损失 计算了每一个样本的预测值y'到真值y的误差\n",
    "    cost = np.sum(loss) / X.shape[0]  # 整个数据集平均损失    \n",
    "    return cost # 返回整个数据集平均损失"
   ],
   "metadata": {
    "execution": {
     "iopub.status.busy": "2021-12-09T09:11:07.194841Z",
     "iopub.execute_input": "2021-12-09T09:11:07.195094Z",
     "iopub.status.idle": "2021-12-09T09:11:07.215163Z",
     "shell.execute_reply.started": "2021-12-09T09:11:07.195040Z",
     "shell.execute_reply": "2021-12-09T09:11:07.214161Z"
    },
    "trusted": true,
    "ExecuteTime": {
     "end_time": "2025-03-25T06:10:48.527917Z",
     "start_time": "2025-03-25T06:10:48.503012700Z"
    }
   },
   "execution_count": 10,
   "outputs": []
  },
  {
   "cell_type": "code",
   "source": [
    "# 然后构建梯度下降的函数\n",
    "def gradient_descent(X,y,w,b,lr,iter) : #定义逻辑回归梯度下降函数\n",
    "    l_history = np.zeros(iter) # 初始化记录梯度下降过程中误差值(损失)的数组\n",
    "    w_history = np.zeros((iter,w.shape[0],w.shape[1])) # 初始化权重记录的数组\n",
    "    b_history = np.zeros(iter) # 初始化记录梯度下降过程中偏置的数组  \n",
    "    for i in range(iter): #进行机器训练的迭代\n",
    "        y_hat = sigmoid(np.dot(X,w) + b) #Sigmoid逻辑函数+线性函数(wX+b)得到y'\n",
    "        derivative_w = np.dot(X.T,((y_hat-y)))/X.shape[0]  # 给权重向量求导\n",
    "        derivative_b = np.sum(y_hat-y)/X.shape[0] # 给偏置求导\n",
    "        w = w - lr * derivative_w # 更新权重向量，lr即学习速率alpha\n",
    "        b = b - lr * derivative_b   # 更新偏置，lr即学习速率alpha\n",
    "        l_history[i] =  loss_function(X,y,w,b) # 梯度下降过程中的损失\n",
    "        print (\"轮次\", i+1 , \"当前轮训练集损失：\",l_history[i]) \n",
    "        w_history[i] = w # 梯度下降过程中权重的历史 请注意w_history和w的形状\n",
    "        b_history[i] = b # 梯度下降过程中偏置的历史\n",
    "    return l_history, w_history, b_history\n"
   ],
   "metadata": {
    "execution": {
     "iopub.status.busy": "2021-12-09T09:11:07.218310Z",
     "iopub.execute_input": "2021-12-09T09:11:07.218614Z",
     "iopub.status.idle": "2021-12-09T09:11:07.237742Z",
     "shell.execute_reply.started": "2021-12-09T09:11:07.218539Z",
     "shell.execute_reply": "2021-12-09T09:11:07.236850Z"
    },
    "trusted": true,
    "ExecuteTime": {
     "end_time": "2025-03-25T06:10:51.194260600Z",
     "start_time": "2025-03-25T06:10:51.175471600Z"
    }
   },
   "execution_count": 11,
   "outputs": []
  },
  {
   "cell_type": "code",
   "source": [
    "def predict(X,w,b): # 定义预测函数\n",
    "    z = np.dot(X,w) + b # 线性函数\n",
    "    y_hat = sigmoid(z) # 逻辑函数转换\n",
    "    y_pred = np.zeros((y_hat.shape[0],1)) # 初始化预测结果变量  \n",
    "    for i in range(y_hat.shape[0]):\n",
    "        if y_hat[i,0] < 0.5:\n",
    "            y_pred[i,0] = 0 # 如果预测概率小于0.5，输出分类0\n",
    "        else:\n",
    "            y_pred[i,0] = 1 # 如果预测概率大于0.5，输出分类1\n",
    "    return y_pred # 返回预测分类的结果"
   ],
   "metadata": {
    "execution": {
     "iopub.status.busy": "2021-12-09T09:11:07.238811Z",
     "iopub.execute_input": "2021-12-09T09:11:07.239085Z",
     "iopub.status.idle": "2021-12-09T09:11:07.252551Z",
     "shell.execute_reply.started": "2021-12-09T09:11:07.239033Z",
     "shell.execute_reply": "2021-12-09T09:11:07.251654Z"
    },
    "trusted": true,
    "ExecuteTime": {
     "end_time": "2025-03-25T06:10:52.802964300Z",
     "start_time": "2025-03-25T06:10:52.773942300Z"
    }
   },
   "execution_count": 12,
   "outputs": []
  },
  {
   "cell_type": "code",
   "source": [
    "def logistic_regression(X,y,w,b,lr,iter): # 定义逻辑回归模型\n",
    "    l_history,w_history,b_history = gradient_descent(X,y,w,b,lr,iter)#梯度下降\n",
    "    print(\"训练最终损失:\", l_history[-1]) # 打印最终损失\n",
    "    y_pred = predict(X,w_history[-1],b_history[-1]) # 进行预测\n",
    "    traning_acc = 100 - np.mean(np.abs(y_pred - y_train))*100 # 计算准确率\n",
    "    print(\"逻辑回归训练准确率: {:.2f}%\".format(traning_acc))  # 打印准确率\n",
    "    return l_history, w_history, b_history # 返回训练历史记录"
   ],
   "metadata": {
    "execution": {
     "iopub.status.busy": "2021-12-09T09:11:07.253656Z",
     "iopub.execute_input": "2021-12-09T09:11:07.253943Z",
     "iopub.status.idle": "2021-12-09T09:11:07.268165Z",
     "shell.execute_reply.started": "2021-12-09T09:11:07.253911Z",
     "shell.execute_reply": "2021-12-09T09:11:07.267227Z"
    },
    "trusted": true,
    "ExecuteTime": {
     "end_time": "2025-03-25T06:10:56.830912900Z",
     "start_time": "2025-03-25T06:10:56.810876200Z"
    }
   },
   "execution_count": 13,
   "outputs": []
  },
  {
   "cell_type": "code",
   "source": [
    "#初始化参数\n",
    "dimension = X.shape[1] # 这里的维度 len(X)是矩阵的行的数，维度是列的数目\n",
    "weight = np.full((dimension,1),0.1) # 权重向量，向量一般是1D，但这里实际上创建了2D张量\n",
    "bias = 0 # 偏置值\n",
    "#初始化超参数\n",
    "alpha = 1 # 学习速率\n",
    "iterations = 500 # 迭代次数"
   ],
   "metadata": {
    "execution": {
     "iopub.status.busy": "2021-12-09T09:11:07.269307Z",
     "iopub.execute_input": "2021-12-09T09:11:07.269560Z",
     "iopub.status.idle": "2021-12-09T09:11:07.287884Z",
     "shell.execute_reply.started": "2021-12-09T09:11:07.269528Z",
     "shell.execute_reply": "2021-12-09T09:11:07.286845Z"
    },
    "trusted": true,
    "ExecuteTime": {
     "end_time": "2025-03-25T06:11:02.249717600Z",
     "start_time": "2025-03-25T06:11:02.223608300Z"
    }
   },
   "execution_count": 14,
   "outputs": []
  },
  {
   "cell_type": "code",
   "source": [
    "# 用逻辑回归函数训练机器\n",
    "loss_history, weight_history, bias_history =  \\\n",
    "            logistic_regression(X_train,y_train,weight,bias,alpha,iterations)"
   ],
   "metadata": {
    "execution": {
     "iopub.status.busy": "2021-12-09T09:11:07.289481Z",
     "iopub.execute_input": "2021-12-09T09:11:07.289971Z",
     "iopub.status.idle": "2021-12-09T09:11:07.763746Z",
     "shell.execute_reply.started": "2021-12-09T09:11:07.289923Z",
     "shell.execute_reply": "2021-12-09T09:11:07.762692Z"
    },
    "trusted": true,
    "ExecuteTime": {
     "end_time": "2025-03-25T06:11:07.070311600Z",
     "start_time": "2025-03-25T06:11:07.007316600Z"
    }
   },
   "execution_count": 15,
   "outputs": [
    {
     "name": "stdout",
     "output_type": "stream",
     "text": [
      "轮次 1 当前轮训练集损失： 0.6112036343168398\n",
      "轮次 2 当前轮训练集损失： 0.5523076475735289\n",
      "轮次 3 当前轮训练集损失： 0.5123428030455855\n",
      "轮次 4 当前轮训练集损失： 0.4840754824927639\n",
      "轮次 5 当前轮训练集损失： 0.4633859634653082\n",
      "轮次 6 当前轮训练集损失： 0.4477704642991181\n",
      "轮次 7 当前轮训练集损失： 0.4356642213814333\n",
      "轮次 8 当前轮训练集损失： 0.42605775336808954\n",
      "轮次 9 当前轮训练集损失： 0.4182791879299938\n",
      "轮次 10 当前轮训练集损失： 0.4118682886238461\n",
      "轮次 11 当前轮训练集损失： 0.4065015076499857\n",
      "轮次 12 当前轮训练集损失： 0.4019460690554972\n",
      "轮次 13 当前轮训练集损失： 0.3980310241098037\n",
      "轮次 14 当前轮训练集损失： 0.39462851199888005\n",
      "轮次 15 当前轮训练集损失： 0.3916413261264196\n",
      "轮次 16 当前轮训练集损失： 0.3889944773257287\n",
      "轮次 17 当前轮训练集损失： 0.3866293512509554\n",
      "轮次 18 当前轮训练集损失： 0.3844995865658556\n",
      "轮次 19 当前轮训练集损失： 0.38256811761057535\n",
      "轮次 20 当前轮训练集损失： 0.38080501963681634\n",
      "轮次 21 当前轮训练集损失： 0.37918591654599954\n",
      "轮次 22 当前轮训练集损失： 0.37769078900210734\n",
      "轮次 23 当前轮训练集损失： 0.37630307159533505\n",
      "轮次 24 当前轮训练集损失： 0.3750089614369276\n",
      "轮次 25 当前轮训练集损失： 0.37379688329267896\n",
      "轮次 26 当前轮训练集损失： 0.37265707192138436\n",
      "轮次 27 当前轮训练集损失： 0.37158124308698576\n",
      "轮次 28 当前轮训练集损失： 0.37056233231225355\n",
      "轮次 29 当前轮训练集损失： 0.3695942858532946\n",
      "轮次 30 当前轮训练集损失： 0.36867189227207287\n",
      "轮次 31 当前轮训练集损失： 0.36779064582199084\n",
      "轮次 32 当前轮训练集损失： 0.3669466349485316\n",
      "轮次 33 当前轮训练集损失： 0.3661364507562083\n",
      "轮次 34 当前轮训练集损失： 0.36535711145341193\n",
      "轮次 35 当前轮训练集损失： 0.364605999663082\n",
      "轮次 36 当前轮训练集损失： 0.3638808101542185\n",
      "轮次 37 当前轮训练集损失： 0.36317950606085747\n",
      "轮次 38 当前轮训练集损失： 0.3625002820502639\n",
      "轮次 39 当前轮训练集损失： 0.3618415332093289\n",
      "轮次 40 当前轮训练集损失： 0.36120182865854944\n",
      "轮次 41 当前轮训练集损失： 0.36057988909222144\n",
      "轮次 42 当前轮训练集损失： 0.3599745675933036\n",
      "轮次 43 当前轮训练集损失： 0.3593848331906967\n",
      "轮次 44 当前轮训练集损失： 0.3588097567221324\n",
      "轮次 45 当前轮训练集损失： 0.3582484986426394\n",
      "轮次 46 当前轮训练集损失： 0.3577002984805928\n",
      "轮次 47 当前轮训练集损失： 0.35716446569371246\n",
      "轮次 48 当前轮训练集损失： 0.3566403717184415\n",
      "轮次 49 当前轮训练集损失： 0.35612744303975635\n",
      "轮次 50 当前轮训练集损失： 0.35562515513610016\n",
      "轮次 51 当前轮训练集损失： 0.3551330271769398\n",
      "轮次 52 当前轮训练集损失： 0.35465061736934456\n",
      "轮次 53 当前轮训练集损失： 0.35417751886568916\n",
      "轮次 54 当前轮训练集损失： 0.3537133561576877\n",
      "轮次 55 当前轮训练集损失： 0.35325778189293144\n",
      "轮次 56 当前轮训练集损失： 0.3528104740593131\n",
      "轮次 57 当前轮训练集损失： 0.3523711334904716\n",
      "轮次 58 当前轮训练集损失： 0.35193948165194716\n",
      "轮次 59 当前轮训练集损失： 0.35151525867328365\n",
      "轮次 60 当前轮训练集损失： 0.3510982215960317\n",
      "轮次 61 当前轮训练集损失： 0.3506881428116224\n",
      "轮次 62 当前轮训练集损失： 0.35028480866651057\n",
      "轮次 63 当前轮训练集损失： 0.34988801821492505\n",
      "轮次 64 当前轮训练集损失： 0.3494975821020833\n",
      "轮次 65 当前轮训练集损失： 0.3491133215628965\n",
      "轮次 66 当前轮训练集损失： 0.34873506752305855\n",
      "轮次 67 当前轮训练集损失： 0.34836265979103315\n",
      "轮次 68 当前轮训练集损失： 0.3479959463308459\n",
      "轮次 69 当前轮训练集损失： 0.3476347826068077\n",
      "轮次 70 当前轮训练集损失： 0.34727903099234686\n",
      "轮次 71 当前轮训练集损失： 0.3469285602360504\n",
      "轮次 72 当前轮训练集损失： 0.34658324497881376\n",
      "轮次 73 当前轮训练集损失： 0.3462429653167033\n",
      "轮次 74 当前轮训练集损失： 0.3459076064047459\n",
      "轮次 75 当前轮训练集损失： 0.34557705809740386\n",
      "轮次 76 当前轮训练集损失： 0.345251214621962\n",
      "轮次 77 当前轮训练集损失： 0.34492997428147304\n",
      "轮次 78 当前轮训练集损失： 0.34461323918427567\n",
      "轮次 79 当前轮训练集损失： 0.34430091499741844\n",
      "轮次 80 当前轮训练集损失： 0.3439929107216169\n",
      "轮次 81 当前轮训练集损失： 0.3436891384856166\n",
      "轮次 82 当前轮训练集损失： 0.34338951335806583\n",
      "轮次 83 当前轮训练集损失： 0.3430939531751964\n",
      "轮次 84 当前轮训练集损失： 0.34280237838279076\n",
      "轮次 85 当前轮训练集损失： 0.3425147118910699\n",
      "轮次 86 当前轮训练集损失： 0.3422308789412746\n",
      "轮次 87 当前轮训练集损失： 0.34195080698284275\n",
      "轮次 88 当前轮训练集损失： 0.3416744255601905\n",
      "轮次 89 当前轮训练集损失： 0.34140166620820805\n",
      "轮次 90 当前轮训练集损失： 0.34113246235566963\n",
      "轮次 91 当前轮训练集损失： 0.34086674923583526\n",
      "轮次 92 当前轮训练集损失： 0.3406044638035938\n",
      "轮次 93 当前轮训练集损失： 0.3403455446585612\n",
      "轮次 94 当前轮训练集损失： 0.34008993197360293\n",
      "轮次 95 当前轮训练集损失： 0.3398375674283035\n",
      "轮次 96 当前轮训练集损失： 0.3395883941469503\n",
      "轮次 97 当前轮训练集损失： 0.33934235664064116\n",
      "轮次 98 当前轮训练集损失： 0.33909940075316075\n",
      "轮次 99 当前轮训练集损失： 0.3388594736103076\n",
      "轮次 100 当前轮训练集损失： 0.3386225235723798\n",
      "轮次 101 当前轮训练集损失： 0.33838850018955835\n",
      "轮次 102 当前轮训练集损失： 0.33815735415994747\n",
      "轮次 103 当前轮训练集损失： 0.337929037290058\n",
      "轮次 104 当前轮训练集损失： 0.3377035024575363\n",
      "轮次 105 当前轮训练集损失： 0.33748070357596\n",
      "轮次 106 当前轮训练集损失： 0.337260595561539\n",
      "轮次 107 当前轮训练集损失： 0.33704313430157484\n",
      "轮次 108 当前轮训练集损失： 0.3368282766245427\n",
      "轮次 109 当前轮训练集损失： 0.33661598027167583\n",
      "轮次 110 当前轮训练集损失： 0.33640620386993886\n",
      "轮次 111 当前轮训练集损失： 0.33619890690629195\n",
      "轮次 112 当前轮训练集损失： 0.3359940497031483\n",
      "轮次 113 当前轮训练集损失： 0.33579159339494635\n",
      "轮次 114 当前轮训练集损失： 0.3355914999057545\n",
      "轮次 115 当前轮训练集损失： 0.3353937319278408\n",
      "轮次 116 当前轮训练集损失： 0.3351982529011421\n",
      "轮次 117 当前轮训练集损失： 0.33500502699357404\n",
      "轮次 118 当前轮训练集损失： 0.33481401908212705\n",
      "轮次 119 当前轮训练集损失： 0.3346251947346996\n",
      "轮次 120 当前轮训练集损失： 0.33443852019262293\n",
      "轮次 121 当前轮训练集损失： 0.3342539623538351\n",
      "轮次 122 当前轮训练集损失： 0.33407148875666676\n",
      "轮次 123 当前轮训练集损失： 0.33389106756420256\n",
      "轮次 124 当前轮训练集损失： 0.3337126675491855\n",
      "轮次 125 当前轮训练集损失： 0.333536258079436\n",
      "轮次 126 当前轮训练集损失： 0.33336180910375535\n",
      "轮次 127 当前轮训练集损失： 0.33318929113828977\n",
      "轮次 128 当前轮训练集损失： 0.33301867525333145\n",
      "轮次 129 当前轮训练集损失： 0.33284993306053356\n",
      "轮次 130 当前轮训练集损失： 0.33268303670051974\n",
      "轮次 131 当前轮训练集损失： 0.33251795883086993\n",
      "轮次 132 当前轮训练集损失： 0.332354672614463\n",
      "轮次 133 当前轮训练集损失： 0.3321931517081619\n",
      "轮次 134 当前轮训练集损失： 0.33203337025182555\n",
      "轮次 135 当前轮训练集损失： 0.3318753028576328\n",
      "轮次 136 当前轮训练集损失： 0.3317189245997058\n",
      "轮次 137 当前轮训练集损失： 0.33156421100402084\n",
      "轮次 138 当前轮训练集损失： 0.33141113803859346\n",
      "轮次 139 当前轮训练集损失： 0.3312596821039295\n",
      "轮次 140 当前轮训练集损失： 0.3311098200237295\n",
      "轮次 141 当前轮训练集损失： 0.3309615290358384\n",
      "轮次 142 当前轮训练集损失： 0.33081478678343124\n",
      "轮次 143 当前轮训练集损失： 0.3306695713064256\n",
      "轮次 144 当前轮训练集损失： 0.3305258610331137\n",
      "轮次 145 当前轮训练集损失： 0.3303836347720066\n",
      "轮次 146 当前轮训练集损失： 0.33024287170388217\n",
      "轮次 147 当前轮训练集损失： 0.3301035513740319\n",
      "轮次 148 当前轮训练集损失： 0.32996565368469755\n",
      "轮次 149 当前轮训练集损失： 0.3298291588876948\n",
      "轮次 150 当前轮训练集损失： 0.3296940475772144\n",
      "轮次 151 当前轮训练集损失： 0.32956030068279873\n",
      "轮次 152 当前轮训练集损失： 0.32942789946248574\n",
      "轮次 153 当前轮训练集损失： 0.32929682549611683\n",
      "轮次 154 当前轮训练集损失： 0.32916706067880297\n",
      "轮次 155 当前轮训练集损失： 0.32903858721454543\n",
      "轮次 156 当前轮训练集损失： 0.328911387610005\n",
      "轮次 157 当前轮训练集损失： 0.3287854446684176\n",
      "轮次 158 当前轮训练集损失： 0.32866074148365015\n",
      "轮次 159 当前轮训练集损失： 0.32853726143439405\n",
      "轮次 160 当前轮训练集损失： 0.3284149881784922\n",
      "轮次 161 当前轮训练集损失： 0.3282939056473958\n",
      "轮次 162 当前轮训练集损失： 0.3281739980407473\n",
      "轮次 163 当前轮训练集损失： 0.3280552498210867\n",
      "轮次 164 当前轮训练集损失： 0.3279376457086769\n",
      "轮次 165 当前轮训练集损失： 0.32782117067644656\n",
      "轮次 166 当前轮训练集损失： 0.3277058099450453\n",
      "轮次 167 当前轮训练集损失： 0.32759154897801074\n",
      "轮次 168 当前轮训练集损失： 0.32747837347704206\n",
      "轮次 169 当前轮训练集损失： 0.32736626937737984\n",
      "轮次 170 当前轮训练集损失： 0.327255222843287\n",
      "轮次 171 当前轮训练集损失： 0.32714522026363024\n",
      "轮次 172 当前轮训练集损失： 0.32703624824755884\n",
      "轮次 173 当前轮训练集损失： 0.32692829362027737\n",
      "轮次 174 当前轮训练集损失： 0.3268213434189125\n",
      "轮次 175 当前轮训练集损失： 0.326715384888468\n",
      "轮次 176 当前轮训练集损失： 0.32661040547786985\n",
      "轮次 177 当前轮训练集损失： 0.3265063928360952\n",
      "轮次 178 当前轮训练集损失： 0.32640333480838685\n",
      "轮次 179 当前轮训练集损失： 0.3263012194325479\n",
      "轮次 180 当前轮训练集损失： 0.3262000349353176\n",
      "轮次 181 当前轮训练集损失： 0.32609976972882376\n",
      "轮次 182 当前轮训练集损失： 0.32600041240711203\n",
      "轮次 183 当前轮训练集损失： 0.32590195174274905\n",
      "轮次 184 当前轮训练集损失： 0.3258043766834974\n",
      "轮次 185 当前轮训练集损失： 0.3257076763490626\n",
      "轮次 186 当前轮训练集损失： 0.3256118400279079\n",
      "轮次 187 当前轮训练集损失： 0.32551685717413636\n",
      "轮次 188 当前轮训练集损失： 0.3254227174044402\n",
      "轮次 189 当前轮训练集损失： 0.32532941049511227\n",
      "轮次 190 当前轮训练集损失： 0.32523692637912255\n",
      "轮次 191 当前轮训练集损失： 0.3251452551432536\n",
      "轮次 192 当前轮训练集损失： 0.32505438702529754\n",
      "轮次 193 当前轮训练集损失： 0.32496431241131146\n",
      "轮次 194 当前轮训练集损失： 0.3248750218329284\n",
      "轮次 195 当前轮训练集损失： 0.324786505964726\n",
      "轮次 196 当前轮训练集损失： 0.32469875562164857\n",
      "轮次 197 当前轮训练集损失： 0.32461176175648243\n",
      "轮次 198 当前轮训练集损失： 0.3245255154573838\n",
      "轮次 199 当前轮训练集损失： 0.3244400079454569\n",
      "轮次 200 当前轮训练集损失： 0.3243552305723826\n",
      "轮次 201 当前轮训练集损失： 0.3242711748180942\n",
      "轮次 202 当前轮训练集损失： 0.3241878322885025\n",
      "轮次 203 当前轮训练集损失： 0.3241051947132653\n",
      "轮次 204 当前轮训练集损失： 0.32402325394360393\n",
      "轮次 205 当前轮训练集损失： 0.3239420019501623\n",
      "轮次 206 当前轮训练集损失： 0.32386143082091157\n",
      "轮次 207 当前轮训练集损失： 0.32378153275909427\n",
      "轮次 208 当前轮训练集损失： 0.3237023000812122\n",
      "轮次 209 当前轮训练集损失： 0.32362372521505367\n",
      "轮次 210 当前轮训练集损失： 0.3235458006977603\n",
      "轮次 211 当前轮训练集损失： 0.3234685191739326\n",
      "轮次 212 当前轮训练集损失： 0.3233918733937731\n",
      "轮次 213 当前轮训练集损失： 0.3233158562112674\n",
      "轮次 214 当前轮训练集损失： 0.3232404605823995\n",
      "轮次 215 当前轮训练集损失： 0.32316567956340436\n",
      "轮次 216 当前轮训练集损失： 0.32309150630905376\n",
      "轮次 217 当前轮训练集损失： 0.3230179340709764\n",
      "轮次 218 当前轮训练集损失： 0.32294495619601105\n",
      "轮次 219 当前轮训练集损失： 0.32287256612459175\n",
      "轮次 220 当前轮训练集损失： 0.32280075738916525\n",
      "轮次 221 当前轮训练集损失： 0.3227295236126379\n",
      "轮次 222 当前轮训练集损失： 0.32265885850685505\n",
      "轮次 223 当前轮训练集损失： 0.3225887558711077\n",
      "轮次 224 当前轮训练集损失： 0.32251920959066943\n",
      "轮次 225 当前轮训练集损失： 0.3224502136353615\n",
      "轮次 226 当前轮训练集损失： 0.3223817620581453\n",
      "轮次 227 当前轮训练集损失： 0.3223138489937418\n",
      "轮次 228 当前轮训练集损失： 0.32224646865727796\n",
      "轮次 229 当前轮训练集损失： 0.3221796153429589\n",
      "轮次 230 当前轮训练集损失： 0.3221132834227652\n",
      "轮次 231 当前轮训练集损失： 0.32204746734517514\n",
      "轮次 232 当前轮训练集损失： 0.3219821616339118\n",
      "轮次 233 当前轮训练集损失： 0.32191736088671286\n",
      "轮次 234 当前轮训练集损失： 0.3218530597741243\n",
      "轮次 235 当前轮训练集损失： 0.3217892530383175\n",
      "轮次 236 当前轮训练集损失： 0.321725935491927\n",
      "轮次 237 当前轮训练集损失： 0.3216631020169118\n",
      "轮次 238 当前轮训练集损失： 0.32160074756343693\n",
      "轮次 239 当前轮训练集损失： 0.3215388671487765\n",
      "轮次 240 当前轮训练集损失： 0.3214774558562366\n",
      "轮次 241 当前轮训练集损失： 0.321416508834099\n",
      "轮次 242 当前轮训练集损失： 0.3213560212945838\n",
      "轮次 243 当前轮训练集损失： 0.3212959885128319\n",
      "轮次 244 当前轮训练集损失： 0.3212364058259057\n",
      "轮次 245 当前轮训练集损失： 0.3211772686318085\n",
      "轮次 246 当前轮训练集损失： 0.32111857238852226\n",
      "轮次 247 当前轮训练集损失： 0.32106031261306184\n",
      "轮次 248 当前轮训练集损失： 0.32100248488054844\n",
      "轮次 249 当前轮训练集损失： 0.32094508482329814\n",
      "轮次 250 当前轮训练集损失： 0.320888108129928\n",
      "轮次 251 当前轮训练集损失： 0.32083155054447815\n",
      "轮次 252 当前轮训练集损失： 0.3207754078655499\n",
      "轮次 253 当前轮训练集损失： 0.3207196759454594\n",
      "轮次 254 当前轮训练集损失： 0.3206643506894064\n",
      "轮次 255 当前轮训练集损失： 0.3206094280546583\n",
      "轮次 256 当前轮训练集损失： 0.3205549040497485\n",
      "轮次 257 当前轮训练集损失： 0.32050077473368926\n",
      "轮次 258 当前轮训练集损失： 0.3204470362151988\n",
      "轮次 259 当前轮训练集损失： 0.32039368465194196\n",
      "轮次 260 当前轮训练集损失： 0.3203407162497841\n",
      "轮次 261 当前轮训练集损失： 0.32028812726205896\n",
      "轮次 262 当前轮训练集损失： 0.320235913988849\n",
      "轮次 263 当前轮训练集损失： 0.3201840727762784\n",
      "轮次 264 当前轮训练集损失： 0.32013260001581845\n",
      "轮次 265 当前轮训练集损失： 0.3200814921436059\n",
      "轮次 266 当前轮训练集损失： 0.3200307456397719\n",
      "轮次 267 当前轮训练集损失： 0.31998035702778427\n",
      "轮次 268 当前轮训练集损失： 0.3199303228738001\n",
      "轮次 269 当前轮训练集损失： 0.31988063978602954\n",
      "轮次 270 当前轮训练集损失： 0.31983130441411173\n",
      "轮次 271 当前轮训练集损失： 0.3197823134485005\n",
      "轮次 272 当前轮训练集损失： 0.31973366361986133\n",
      "轮次 273 当前轮训练集损失： 0.3196853516984779\n",
      "轮次 274 当前轮训练集损失： 0.3196373744936701\n",
      "轮次 275 当前轮训练集损失： 0.3195897288532208\n",
      "轮次 276 当前轮训练集损失： 0.31954241166281316\n",
      "轮次 277 当前轮训练集损失： 0.3194954198454773\n",
      "轮次 278 当前轮训练集损失： 0.31944875036104653\n",
      "轮次 279 当前轮训练集损失： 0.3194024002056225\n",
      "轮次 280 当前轮训练集损失： 0.3193563664110501\n",
      "轮次 281 当前轮训练集损失： 0.3193106460444\n",
      "轮次 282 当前轮训练集损失： 0.319265236207462\n",
      "轮次 283 当前轮训练集损失： 0.31922013403624433\n",
      "轮次 284 当前轮训练集损失： 0.31917533670048376\n",
      "轮次 285 当前轮训练集损失： 0.3191308414031619\n",
      "轮次 286 当前轮训练集损失： 0.3190866453800314\n",
      "轮次 287 当前轮训练集损失： 0.31904274589914855\n",
      "轮次 288 当前轮训练集损失： 0.31899914026041476\n",
      "轮次 289 当前轮训练集损失： 0.31895582579512516\n",
      "轮次 290 当前轮训练集损失： 0.31891279986552407\n",
      "轮次 291 当前轮训练集损失： 0.3188700598643694\n",
      "轮次 292 当前轮训练集损失： 0.318827603214503\n",
      "轮次 293 当前轮训练集损失： 0.3187854273684281\n",
      "轮次 294 当前轮训练集损失： 0.31874352980789405\n",
      "轮次 295 当前轮训练集损失： 0.3187019080434884\n",
      "轮次 296 当前轮训练集损失： 0.3186605596142343\n",
      "轮次 297 当前轮训练集损失： 0.3186194820871954\n",
      "轮次 298 当前轮训练集损失： 0.31857867305708754\n",
      "轮次 299 当前轮训练集损失： 0.3185381301458952\n",
      "轮次 300 当前轮训练集损失： 0.3184978510024962\n",
      "轮次 301 当前轮训练集损失： 0.31845783330229066\n",
      "轮次 302 当前轮训练集损失： 0.31841807474683703\n",
      "轮次 303 当前轮训练集损失： 0.3183785730634937\n",
      "轮次 304 当前轮训练集损失： 0.31833932600506615\n",
      "轮次 305 当前轮训练集损失： 0.31830033134946\n",
      "轮次 306 当前轮训练集损失： 0.31826158689933953\n",
      "轮次 307 当前轮训练集损失： 0.3182230904817915\n",
      "轮次 308 当前轮训练集损失： 0.31818483994799485\n",
      "轮次 309 当前轮训练集损失： 0.31814683317289455\n",
      "轮次 310 当前轮训练集损失： 0.318109068054882\n",
      "轮次 311 当前轮训练集损失： 0.3180715425154793\n",
      "轮次 312 当前轮训练集损失： 0.31803425449902945\n",
      "轮次 313 当前轮训练集损失： 0.3179972019723903\n",
      "轮次 314 当前轮训练集损失： 0.31796038292463463\n",
      "轮次 315 当前轮训练集损失： 0.317923795366754\n",
      "轮次 316 当前轮训练集损失： 0.3178874373313671\n",
      "轮次 317 当前轮训练集损失： 0.3178513068724337\n",
      "轮次 318 当前轮训练集损失： 0.317815402064972\n",
      "轮次 319 当前轮训练集损失： 0.3177797210047807\n",
      "轮次 320 当前轮训练集损失： 0.31774426180816556\n",
      "轮次 321 当前轮训练集损失： 0.31770902261167\n",
      "轮次 322 当前轮训练集损失： 0.31767400157180986\n",
      "轮次 323 当前轮训练集损失： 0.3176391968648125\n",
      "轮次 324 当前轮训练集损失： 0.31760460668635926\n",
      "轮次 325 当前轮训练集损失： 0.3175702292513326\n",
      "轮次 326 当前轮训练集损失： 0.3175360627935667\n",
      "轮次 327 当前轮训练集损失： 0.31750210556560204\n",
      "轮次 328 当前轮训练集损失： 0.31746835583844357\n",
      "轮次 329 当前轮训练集损失： 0.31743481190132233\n",
      "轮次 330 当前轮训练集损失： 0.31740147206146146\n",
      "轮次 331 当前轮训练集损失： 0.3173683346438452\n",
      "轮次 332 当前轮训练集损失： 0.3173353979909907\n",
      "轮次 333 当前轮训练集损失： 0.31730266046272476\n",
      "轮次 334 当前轮训练集损失： 0.31727012043596325\n",
      "轮次 335 当前轮训练集损失： 0.3172377763044929\n",
      "轮次 336 当前轮训练集损失： 0.3172056264787578\n",
      "轮次 337 当前轮训练集损失： 0.3171736693856484\n",
      "轮次 338 当前轮训练集损失： 0.3171419034682937\n",
      "轮次 339 当前轮训练集损失： 0.3171103271858564\n",
      "轮次 340 当前轮训练集损失： 0.3170789390133316\n",
      "轮次 341 当前轮训练集损失： 0.3170477374413474\n",
      "轮次 342 当前轮训练集损失： 0.31701672097597006\n",
      "轮次 343 当前轮训练集损失： 0.3169858881385105\n",
      "轮次 344 当前轮训练集损失： 0.3169552374653346\n",
      "轮次 345 当前轮训练集损失： 0.31692476750767556\n",
      "轮次 346 当前轮训练集损失： 0.3168944768314498\n",
      "轮次 347 当前轮训练集损失： 0.3168643640170752\n",
      "轮次 348 当前轮训练集损失： 0.3168344276592914\n",
      "轮次 349 当前轮训练集损失： 0.3168046663669838\n",
      "轮次 350 当前轮训练集损失： 0.31677507876300914\n",
      "轮次 351 当前轮训练集损失： 0.3167456634840246\n",
      "轮次 352 当前轮训练集损失： 0.3167164191803181\n",
      "轮次 353 当前轮训练集损失： 0.3166873445156425\n",
      "轮次 354 当前轮训练集损失： 0.31665843816705047\n",
      "轮次 355 当前轮训练集损失： 0.31662969882473374\n",
      "轮次 356 当前轮训练集损失： 0.3166011251918626\n",
      "轮次 357 当前轮训练集损失： 0.31657271598442976\n",
      "轮次 358 当前轮训练集损失： 0.3165444699310944\n",
      "轮次 359 当前轮训练集损失： 0.31651638577303015\n",
      "轮次 360 当前轮训练集损失： 0.3164884622637741\n",
      "轮次 361 当前轮训练集损失： 0.31646069816907824\n",
      "轮次 362 当前轮训练集损失： 0.31643309226676375\n",
      "轮次 363 当前轮训练集损失： 0.3164056433465758\n",
      "轮次 364 当前轮训练集损失： 0.316378350210042\n",
      "轮次 365 当前轮训练集损失： 0.31635121167033226\n",
      "轮次 366 当前轮训练集损失： 0.3163242265521194\n",
      "轮次 367 当前轮训练集损失： 0.3162973936914445\n",
      "轮次 368 当前轮训练集损失： 0.31627071193558076\n",
      "轮次 369 当前轮训练集损失： 0.3162441801429021\n",
      "轮次 370 当前轮训练集损失： 0.31621779718275217\n",
      "轮次 371 当前轮训练集损失： 0.316191561935315\n",
      "轮次 372 当前轮训练集损失： 0.31616547329148836\n",
      "轮次 373 当前轮训练集损失： 0.3161395301527585\n",
      "轮次 374 当前轮训练集损失： 0.31611373143107563\n",
      "轮次 375 当前轮训练集损失： 0.3160880760487334\n",
      "轮次 376 当前轮训练集损失： 0.31606256293824736\n",
      "轮次 377 当前轮训练集损失： 0.31603719104223704\n",
      "轮次 378 当前轮训练集损失： 0.31601195931330894\n",
      "轮次 379 当前轮训练集损失： 0.3159868667139409\n",
      "轮次 380 当前轮训练集损失： 0.3159619122163684\n",
      "轮次 381 当前轮训练集损失： 0.31593709480247234\n",
      "轮次 382 当前轮训练集损失： 0.3159124134636684\n",
      "轮次 383 当前轮训练集损失： 0.3158878672007975\n",
      "轮次 384 当前轮训练集损失： 0.3158634550240185\n",
      "轮次 385 当前轮训练集损失： 0.3158391759527016\n",
      "轮次 386 当前轮训练集损失： 0.31581502901532327\n",
      "轮次 387 当前轮训练集损失： 0.31579101324936343\n",
      "轮次 388 当前轮训练集损失： 0.31576712770120263\n",
      "轮次 389 当前轮训练集损失： 0.315743371426022\n",
      "轮次 390 当前轮训练集损失： 0.31571974348770354\n",
      "轮次 391 当前轮训练集损失： 0.3156962429587319\n",
      "轮次 392 当前轮训练集损失： 0.3156728689200983\n",
      "轮次 393 当前轮训练集损失： 0.31564962046120454\n",
      "轮次 394 当前轮训练集损失： 0.31562649667976905\n",
      "轮次 395 当前轮训练集损失： 0.3156034966817336\n",
      "轮次 396 当前轮训练集损失： 0.3155806195811723\n",
      "轮次 397 当前轮训练集损失： 0.3155578645002004\n",
      "轮次 398 当前轮训练集损失： 0.31553523056888544\n",
      "轮次 399 当前轮训练集损失： 0.315512716925159\n",
      "轮次 400 当前轮训练集损失： 0.3154903227147295\n",
      "轮次 401 当前轮训练集损失： 0.3154680470909968\n",
      "轮次 402 当前轮训练集损失： 0.31544588921496686\n",
      "轮次 403 当前轮训练集损失： 0.3154238482551689\n",
      "轮次 404 当前轮训练集损失： 0.3154019233875724\n",
      "轮次 405 当前轮训练集损失： 0.31538011379550535\n",
      "轮次 406 当前轮训练集损失： 0.31535841866957454\n",
      "轮次 407 当前轮训练集损失： 0.31533683720758576\n",
      "轮次 408 当前轮训练集损失： 0.3153153686144657\n",
      "轮次 409 当前轮训练集损失： 0.31529401210218405\n",
      "轮次 410 当前轮训练集损失： 0.31527276688967815\n",
      "轮次 411 当前轮训练集损失： 0.3152516322027767\n",
      "轮次 412 当前轮训练集损失： 0.3152306072741257\n",
      "轮次 413 当前轮训练集损失： 0.31520969134311544\n",
      "轮次 414 当前轮训练集损失： 0.315188883655807\n",
      "轮次 415 当前轮训练集损失： 0.3151681834648618\n",
      "轮次 416 当前轮训练集损失： 0.31514759002947\n",
      "轮次 417 当前轮训练集损失： 0.31512710261528126\n",
      "轮次 418 当前轮训练集损失： 0.31510672049433563\n",
      "轮次 419 当前轮训练集损失： 0.3150864429449957\n",
      "轮次 420 当前轮训练集损失： 0.31506626925187914\n",
      "轮次 421 当前轮训练集损失： 0.3150461987057924\n",
      "轮次 422 当前轮训练集损失： 0.31502623060366564\n",
      "轮次 423 当前轮训练集损失： 0.3150063642484876\n",
      "轮次 424 当前轮训练集损失： 0.31498659894924197\n",
      "轮次 425 当前轮训练集损失： 0.3149669340208442\n",
      "轮次 426 当前轮训练集损失： 0.31494736878407925\n",
      "轮次 427 当前轮训练集损失： 0.3149279025655402\n",
      "轮次 428 当前轮训练集损失： 0.3149085346975673\n",
      "轮次 429 当前轮训练集损失： 0.31488926451818805\n",
      "轮次 430 当前轮训练集损失： 0.31487009137105826\n",
      "轮次 431 当前轮训练集损失： 0.3148510146054029\n",
      "轮次 432 当前轮训练集损失： 0.31483203357595885\n",
      "轮次 433 当前轮训练集损失： 0.3148131476429176\n",
      "轮次 434 当前轮训练集损失： 0.3147943561718691\n",
      "轮次 435 当前轮训练集损失： 0.31477565853374545\n",
      "轮次 436 当前轮训练集损失： 0.3147570541047665\n",
      "轮次 437 当前轮训练集损失： 0.31473854226638537\n",
      "轮次 438 当前轮训练集损失： 0.31472012240523467\n",
      "轮次 439 当前轮训练集损失： 0.3147017939130733\n",
      "轮次 440 当前轮训练集损失： 0.3146835561867345\n",
      "轮次 441 当前轮训练集损失： 0.3146654086280738\n",
      "轮次 442 当前轮训练集损失： 0.3146473506439178\n",
      "轮次 443 当前轮训练集损失： 0.3146293816460141\n",
      "轮次 444 当前轮训练集损失： 0.3146115010509809\n",
      "轮次 445 当前轮训练集损失： 0.31459370828025796\n",
      "轮次 446 当前轮训练集损失： 0.31457600276005787\n",
      "轮次 447 当前轮训练集损失： 0.3145583839213179\n",
      "轮次 448 当前轮训练集损失： 0.31454085119965247\n",
      "轮次 449 当前轮训练集损失： 0.31452340403530626\n",
      "轮次 450 当前轮训练集损失： 0.31450604187310743\n",
      "轮次 451 当前轮训练集损失： 0.31448876416242216\n",
      "轮次 452 当前轮训练集损失： 0.31447157035710904\n",
      "轮次 453 当前轮训练集损失： 0.3144544599154747\n",
      "轮次 454 当前轮训练集损失： 0.314437432300229\n",
      "轮次 455 当前轮训练集损失： 0.31442048697844155\n",
      "轮次 456 当前轮训练集损失： 0.3144036234214984\n",
      "轮次 457 当前轮训练集损失： 0.3143868411050599\n",
      "轮次 458 当前轮训练集损失： 0.31437013950901743\n",
      "轮次 459 当前轮训练集损失： 0.31435351811745244\n",
      "轮次 460 当前轮训练集损失： 0.3143369764185952\n",
      "轮次 461 当前轮训练集损失： 0.3143205139047836\n",
      "轮次 462 当前轮训练集损失： 0.3143041300724235\n",
      "轮次 463 当前轮训练集损失： 0.3142878244219482\n",
      "轮次 464 当前轮训练集损失： 0.31427159645777974\n",
      "轮次 465 当前轮训练集损失： 0.3142554456882897\n",
      "轮次 466 当前轮训练集损失： 0.31423937162576093\n",
      "轮次 467 当前轮训练集损失： 0.31422337378634907\n",
      "轮次 468 当前轮训练集损失： 0.3142074516900458\n",
      "轮次 469 当前轮训练集损失： 0.3141916048606411\n",
      "轮次 470 当前轮训练集损失： 0.3141758328256867\n",
      "轮次 471 当前轮训练集损失： 0.3141601351164598\n",
      "轮次 472 当前轮训练集损失： 0.3141445112679276\n",
      "轮次 473 当前轮训练集损失： 0.314128960818711\n",
      "轮次 474 当前轮训练集损失： 0.31411348331105043\n",
      "轮次 475 当前轮训练集损失： 0.31409807829077074\n",
      "轮次 476 当前轮训练集损失： 0.31408274530724695\n",
      "轮次 477 当前轮训练集损失： 0.3140674839133705\n",
      "轮次 478 当前轮训练集损失： 0.3140522936655158\n",
      "轮次 479 当前轮训练集损失： 0.3140371741235069\n",
      "轮次 480 当前轮训练集损失： 0.3140221248505852\n",
      "轮次 481 当前轮训练集损失： 0.3140071454133766\n",
      "轮次 482 当前轮训练集损失： 0.3139922353818598\n",
      "轮次 483 当前轮训练集损失： 0.31397739432933447\n",
      "轮次 484 当前轮训练集损失： 0.3139626218323902\n",
      "轮次 485 当前轮训练集损失： 0.31394791747087547\n",
      "轮次 486 当前轮训练集损失： 0.3139332808278669\n",
      "轮次 487 当前轮训练集损失： 0.3139187114896392\n",
      "轮次 488 当前轮训练集损失： 0.3139042090456351\n",
      "轮次 489 当前轮训练集损失： 0.313889773088436\n",
      "轮次 490 当前轮训练集损失： 0.3138754032137327\n",
      "轮次 491 当前轮训练集损失： 0.31386109902029596\n",
      "轮次 492 当前轮训练集损失： 0.3138468601099488\n",
      "轮次 493 当前轮训练集损失： 0.3138326860875371\n",
      "轮次 494 当前轮训练集损失： 0.31381857656090284\n",
      "轮次 495 当前轮训练集损失： 0.3138045311408552\n",
      "轮次 496 当前轮训练集损失： 0.3137905494411444\n",
      "轮次 497 当前轮训练集损失： 0.3137766310784335\n",
      "轮次 498 当前轮训练集损失： 0.31376277567227256\n",
      "轮次 499 当前轮训练集损失： 0.31374898284507147\n",
      "轮次 500 当前轮训练集损失： 0.3137352522220741\n",
      "训练最终损失: 0.3137352522220741\n",
      "逻辑回归训练准确率: 87.19%\n"
     ]
    }
   ]
  },
  {
   "cell_type": "code",
   "execution_count": 24,
   "outputs": [
    {
     "name": "stdout",
     "output_type": "stream",
     "text": [
      "(500, 21, 1)\n",
      "(500,)\n"
     ]
    }
   ],
   "source": [
    "print(weight_history.shape)\n",
    "print(bias_history.shape)"
   ],
   "metadata": {
    "collapsed": false,
    "ExecuteTime": {
     "end_time": "2025-03-25T07:04:34.146321600Z",
     "start_time": "2025-03-25T07:04:34.065233300Z"
    }
   }
  },
  {
   "cell_type": "code",
   "source": [
    "y_pred = predict(X_test,weight_history[-1],bias_history[-1]) # 预测测试集\n",
    "testing_acc = 100 - np.mean(np.abs(y_pred - y_test))*100 # 计算准确率\n",
    "print(\"逻辑回归测试准确率: {:.2f}%\".format(testing_acc))"
   ],
   "metadata": {
    "execution": {
     "iopub.status.busy": "2021-12-09T09:11:07.765423Z",
     "iopub.execute_input": "2021-12-09T09:11:07.766218Z",
     "iopub.status.idle": "2021-12-09T09:11:07.774176Z",
     "shell.execute_reply.started": "2021-12-09T09:11:07.766167Z",
     "shell.execute_reply": "2021-12-09T09:11:07.773083Z"
    },
    "trusted": true,
    "ExecuteTime": {
     "end_time": "2025-03-25T06:11:35.520187900Z",
     "start_time": "2025-03-25T06:11:35.493114200Z"
    }
   },
   "execution_count": 16,
   "outputs": [
    {
     "name": "stdout",
     "output_type": "stream",
     "text": [
      "逻辑回归测试准确率: 78.69%\n"
     ]
    }
   ]
  },
  {
   "cell_type": "code",
   "source": [
    "print (\"逻辑回归预测分类值:\",predict(X_test,weight_history[-1],bias_history[-1]))"
   ],
   "metadata": {
    "execution": {
     "iopub.status.busy": "2021-12-09T09:11:07.775647Z",
     "iopub.execute_input": "2021-12-09T09:11:07.776005Z",
     "iopub.status.idle": "2021-12-09T09:11:07.789106Z",
     "shell.execute_reply.started": "2021-12-09T09:11:07.775964Z",
     "shell.execute_reply": "2021-12-09T09:11:07.788257Z"
    },
    "trusted": true,
    "ExecuteTime": {
     "end_time": "2025-03-25T06:11:42.250598400Z",
     "start_time": "2025-03-25T06:11:42.230422900Z"
    }
   },
   "execution_count": 17,
   "outputs": [
    {
     "name": "stdout",
     "output_type": "stream",
     "text": [
      "逻辑回归预测分类值: [[1.]\n",
      " [1.]\n",
      " [1.]\n",
      " [1.]\n",
      " [1.]\n",
      " [1.]\n",
      " [0.]\n",
      " [0.]\n",
      " [0.]\n",
      " [1.]\n",
      " [1.]\n",
      " [0.]\n",
      " [1.]\n",
      " [1.]\n",
      " [0.]\n",
      " [1.]\n",
      " [1.]\n",
      " [1.]\n",
      " [0.]\n",
      " [0.]\n",
      " [0.]\n",
      " [1.]\n",
      " [0.]\n",
      " [1.]\n",
      " [1.]\n",
      " [0.]\n",
      " [0.]\n",
      " [1.]\n",
      " [1.]\n",
      " [0.]\n",
      " [1.]\n",
      " [0.]\n",
      " [1.]\n",
      " [0.]\n",
      " [1.]\n",
      " [0.]\n",
      " [0.]\n",
      " [0.]\n",
      " [1.]\n",
      " [0.]\n",
      " [1.]\n",
      " [0.]\n",
      " [1.]\n",
      " [0.]\n",
      " [1.]\n",
      " [0.]\n",
      " [1.]\n",
      " [1.]\n",
      " [1.]\n",
      " [1.]\n",
      " [0.]\n",
      " [1.]\n",
      " [1.]\n",
      " [0.]\n",
      " [0.]\n",
      " [1.]\n",
      " [1.]\n",
      " [1.]\n",
      " [1.]\n",
      " [1.]\n",
      " [0.]]\n"
     ]
    }
   ]
  },
  {
   "cell_type": "code",
   "source": [
    "loss_history_test = np.zeros(iterations) # 初始化历史损失\n",
    "\n",
    "for i in range(iterations): #求训练过程中不同参数带来的测试集损失\n",
    "    loss_history_test[i] = loss_function(X_test,y_test,\n",
    "                                         weight_history[i],bias_history[i])\n",
    "\n",
    "index = np.arange(0,iterations,1)\n",
    "# 绘制\n",
    "plt.plot(index, loss_history,c='blue',linestyle='solid')\n",
    "\n",
    "plt.plot(index, loss_history_test,c='red',linestyle='dashed')\n",
    "# 名字\n",
    "plt.legend([\"Training Loss\", \"Test Loss\"])\n",
    "# x,y轴名字\n",
    "plt.xlabel(\"Number of Iteration\")\n",
    "plt.ylabel(\"Cost\")\n",
    "plt.show() # 同时显示显示训练集和测试集损失曲线"
   ],
   "metadata": {
    "execution": {
     "iopub.status.busy": "2021-12-09T09:11:07.790169Z",
     "iopub.execute_input": "2021-12-09T09:11:07.790463Z",
     "iopub.status.idle": "2021-12-09T09:11:08.064036Z",
     "shell.execute_reply.started": "2021-12-09T09:11:07.790422Z",
     "shell.execute_reply": "2021-12-09T09:11:08.063003Z"
    },
    "trusted": true,
    "ExecuteTime": {
     "end_time": "2025-03-25T06:11:50.934983900Z",
     "start_time": "2025-03-25T06:11:50.799214100Z"
    }
   },
   "execution_count": 18,
   "outputs": [
    {
     "data": {
      "text/plain": "<Figure size 640x480 with 1 Axes>",
      "image/png": "[encoded data removed]"
     },
     "metadata": {},
     "output_type": "display_data"
    }
   ]
  },
  {
   "cell_type": "code",
   "source": [
    "from sklearn.linear_model import LogisticRegression #导入逻辑回归模型\n",
    "from sklearn.utils.validation import column_or_1d\n",
    "lr = LogisticRegression() # lr,就代表是逻辑回归模型\n",
    "y_train = column_or_1d(y_train, warn=True)\n",
    "lr.fit(X_train,y_train) # fit,就相当于是梯度下降\n",
    "\n",
    "print(\"SK-learn逻辑回归测试准确率{:.2f}%\".format(lr.score(X_test,y_test)*100))\n",
    "\n"
   ],
   "metadata": {
    "execution": {
     "iopub.status.busy": "2021-12-09T09:11:08.066095Z",
     "iopub.execute_input": "2021-12-09T09:11:08.066354Z",
     "iopub.status.idle": "2021-12-09T09:11:08.178904Z",
     "shell.execute_reply.started": "2021-12-09T09:11:08.066324Z",
     "shell.execute_reply": "2021-12-09T09:11:08.177975Z"
    },
    "trusted": true,
    "ExecuteTime": {
     "end_time": "2025-03-25T07:20:20.904375600Z",
     "start_time": "2025-03-25T07:20:20.876699Z"
    }
   },
   "execution_count": 28,
   "outputs": [
    {
     "name": "stdout",
     "output_type": "stream",
     "text": [
      "SK-learn逻辑回归测试准确率80.33%\n"
     ]
    }
   ]
  },
  {
   "cell_type": "markdown",
   "source": [
    "\"\"\"\n",
    "DataConversionWarning: A column-vector y was passed when a 1d array was expected. Please change the shape of y to (n_samples, ), for example using ravel().\n",
    "DataConversionWarning：当期望一个一维数组时，传递了一个列向量y。请更改y的形状为（n_samples,），例如使用ravel（）。\n",
    "\"\"\""
   ],
   "metadata": {
    "collapsed": false
   }
  },
  {
   "cell_type": "code",
   "execution_count": null,
   "outputs": [],
   "source": [],
   "metadata": {
    "collapsed": false
   }
  }
 ]
}
