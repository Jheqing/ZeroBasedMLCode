{
 "metadata": {
  "kernelspec": {
   "language": "python",
   "display_name": "Python 3",
   "name": "python3"
  },
  "language_info": {
   "name": "python",
   "version": "3.7.12",
   "mimetype": "text/x-python",
   "codemirror_mode": {
    "name": "ipython",
    "version": 3
   },
   "pygments_lexer": "ipython3",
   "nbconvert_exporter": "python",
   "file_extension": ".py"
  }
 },
 "nbformat_minor": 4,
 "nbformat": 4,
 "cells": [
  {
   "cell_type": "code",
   "source": [
    "import numpy as np # 导入NumPy数学工具集\n",
    "list=[1,2,3,4,5] # 创建列表\n",
    "array_01=np.array([1,2,3,4,5]) # 列表转化成数组\n",
    "array_02=np.array((6,7,8,9,10)) # 元组转化成数组\n",
    "array_03=np.array([[1,2,3],[4,5,6]]) # 列表转化成2D数组\n",
    "print ('列表：', list)\n",
    "print ('列表转化为数组：', array_01)\n",
    "print ('元组转化为数组：', array_02)\n",
    "print ('2D数组：', array_03)\n",
    "print ('数组的形状：', array_01.shape)\n",
    "# print ('列表的形状：', list.shape) # 列表没有形状，程序会报错"
   ],
   "metadata": {
    "execution": {
     "iopub.status.busy": "2021-12-09T08:00:40.840922Z",
     "iopub.execute_input": "2021-12-09T08:00:40.841214Z",
     "iopub.status.idle": "2021-12-09T08:00:40.853163Z",
     "shell.execute_reply.started": "2021-12-09T08:00:40.841183Z",
     "shell.execute_reply": "2021-12-09T08:00:40.852085Z"
    },
    "trusted": true,
    "ExecuteTime": {
     "end_time": "2025-03-24T06:02:19.825771700Z",
     "start_time": "2025-03-24T06:02:19.656975200Z"
    }
   },
   "execution_count": 1,
   "outputs": [
    {
     "name": "stdout",
     "output_type": "stream",
     "text": [
      "列表： [1, 2, 3, 4, 5]\n",
      "列表转化为数组： [1 2 3 4 5]\n",
      "元组转化为数组： [ 6  7  8  9 10]\n",
      "2D数组： [[1 2 3]\n",
      " [4 5 6]]\n",
      "数组的形状： (5,)\n"
     ]
    }
   ]
  },
  {
   "cell_type": "code",
   "source": [
    "array_04=np.arange(1,5,1) # 通过arange函数生成数组\n",
    "array_05=np.linspace(1,5,5) # 通过linspace函数生成数组\n",
    "print (array_04)\n",
    "print (array_05)"
   ],
   "metadata": {
    "execution": {
     "iopub.status.busy": "2021-12-09T08:00:40.854808Z",
     "iopub.execute_input": "2021-12-09T08:00:40.855136Z",
     "iopub.status.idle": "2021-12-09T08:00:40.871273Z",
     "shell.execute_reply.started": "2021-12-09T08:00:40.855103Z",
     "shell.execute_reply": "2021-12-09T08:00:40.870573Z"
    },
    "trusted": true,
    "ExecuteTime": {
     "end_time": "2025-03-24T06:02:19.837457300Z",
     "start_time": "2025-03-24T06:02:19.821927300Z"
    }
   },
   "execution_count": 2,
   "outputs": [
    {
     "name": "stdout",
     "output_type": "stream",
     "text": [
      "[1 2 3 4]\n",
      "[1. 2. 3. 4. 5.]\n"
     ]
    }
   ]
  },
  {
   "cell_type": "code",
   "source": [
    "array_06 = np.arange(10)\n",
    "print (array_06)\n",
    "index_01 = array_06[3] # 索引-第4个元素\n",
    "print ('第4个元素', index_01)\n",
    "index_02 = array_06[-1] # 索引-最后一个元素\n",
    "print ('第-1个元素', index_02)\n",
    "slice_01 = array_06[:4] # 从0到4切片\n",
    "print ('从0到4切片', slice_01)\n",
    "slice_02 = array_06[0:12:4] # 从0到12切片，步长为2\n",
    "print ('从0到12切片，步长为4', slice_02)"
   ],
   "metadata": {
    "execution": {
     "iopub.status.busy": "2021-12-09T08:00:40.872779Z",
     "iopub.execute_input": "2021-12-09T08:00:40.872997Z",
     "iopub.status.idle": "2021-12-09T08:00:40.889074Z",
     "shell.execute_reply.started": "2021-12-09T08:00:40.872971Z",
     "shell.execute_reply": "2021-12-09T08:00:40.888465Z"
    },
    "trusted": true,
    "ExecuteTime": {
     "end_time": "2025-03-24T06:02:19.937282500Z",
     "start_time": "2025-03-24T06:02:19.840428300Z"
    }
   },
   "execution_count": 3,
   "outputs": [
    {
     "name": "stdout",
     "output_type": "stream",
     "text": [
      "[0 1 2 3 4 5 6 7 8 9]\n",
      "第4个元素 3\n",
      "第-1个元素 9\n",
      "从0到4切片 [0 1 2 3]\n",
      "从0到12切片，步长为4 [0 4 8]\n"
     ]
    }
   ]
  },
  {
   "cell_type": "code",
   "source": [
    "from tensorflow.keras.datasets import mnist #需要打开internet选项)\n",
    "(X_train, y_train), (X_test, y_test) = mnist.load_data()\n",
    "print (X_train.shape)\n",
    "X_train_slice = X_train[10000:15000,:,:]"
   ],
   "metadata": {
    "execution": {
     "iopub.status.busy": "2021-12-09T08:00:40.890365Z",
     "iopub.execute_input": "2021-12-09T08:00:40.891087Z",
     "iopub.status.idle": "2021-12-09T08:00:41.260508Z",
     "shell.execute_reply.started": "2021-12-09T08:00:40.891038Z",
     "shell.execute_reply": "2021-12-09T08:00:41.259625Z"
    },
    "trusted": true,
    "ExecuteTime": {
     "end_time": "2025-03-24T06:02:31.142004400Z",
     "start_time": "2025-03-24T06:02:28.621406Z"
    }
   },
   "execution_count": 5,
   "outputs": [
    {
     "name": "stdout",
     "output_type": "stream",
     "text": [
      "Downloading data from https://storage.googleapis.com/tensorflow/tf-keras-datasets/mnist.npz\n",
      "11493376/11490434 [==============================] - 2s 0us/step\n",
      "(60000, 28, 28)\n"
     ]
    }
   ]
  },
  {
   "cell_type": "code",
   "source": [
    "array_07 = np.array([[1,2,3],[4,5,6]])\n",
    "print (array_07[1:2],'它的形状是', array_07[1:2].shape) \n",
    "print (array_07[1:2][0], '它的形状又不同了', array_07[1:2][0].shape)"
   ],
   "metadata": {
    "execution": {
     "iopub.status.busy": "2021-12-09T08:00:41.263151Z",
     "iopub.execute_input": "2021-12-09T08:00:41.263522Z",
     "iopub.status.idle": "2021-12-09T08:00:41.271804Z",
     "shell.execute_reply.started": "2021-12-09T08:00:41.263480Z",
     "shell.execute_reply": "2021-12-09T08:00:41.270228Z"
    },
    "trusted": true,
    "ExecuteTime": {
     "end_time": "2025-03-24T06:02:31.231700500Z",
     "start_time": "2025-03-24T06:02:31.140931900Z"
    }
   },
   "execution_count": 6,
   "outputs": [
    {
     "name": "stdout",
     "output_type": "stream",
     "text": [
      "[[4 5 6]] 它的形状是 (1, 3)\n",
      "[4 5 6] 它的形状又不同了 (3,)\n"
     ]
    }
   ]
  },
  {
   "cell_type": "code",
   "source": [
    "array_07 += 1 # 数组内全部元素加1\n",
    "print (array_07)"
   ],
   "metadata": {
    "execution": {
     "iopub.status.busy": "2021-12-09T08:00:41.273505Z",
     "iopub.execute_input": "2021-12-09T08:00:41.273847Z",
     "iopub.status.idle": "2021-12-09T08:00:41.288472Z",
     "shell.execute_reply.started": "2021-12-09T08:00:41.273803Z",
     "shell.execute_reply": "2021-12-09T08:00:41.287426Z"
    },
    "trusted": true,
    "ExecuteTime": {
     "end_time": "2025-03-24T06:02:31.245469800Z",
     "start_time": "2025-03-24T06:02:31.156213Z"
    }
   },
   "execution_count": 7,
   "outputs": [
    {
     "name": "stdout",
     "output_type": "stream",
     "text": [
      "[[2 3 4]\n",
      " [5 6 7]]\n"
     ]
    }
   ]
  },
  {
   "cell_type": "code",
   "source": [
    "for i in range(array_07.shape[0]):\n",
    "    for j in range(array_07.shape[1]):\n",
    "        array_07[i,j] += 1"
   ],
   "metadata": {
    "execution": {
     "iopub.status.busy": "2021-12-09T08:00:41.289495Z",
     "iopub.execute_input": "2021-12-09T08:00:41.289819Z",
     "iopub.status.idle": "2021-12-09T08:00:41.303511Z",
     "shell.execute_reply.started": "2021-12-09T08:00:41.289784Z",
     "shell.execute_reply": "2021-12-09T08:00:41.302509Z"
    },
    "trusted": true,
    "ExecuteTime": {
     "end_time": "2025-03-24T06:02:31.503496400Z",
     "start_time": "2025-03-24T06:02:31.469471500Z"
    }
   },
   "execution_count": 8,
   "outputs": []
  },
  {
   "cell_type": "code",
   "source": [
    "print (np.sqrt(array_07)) #打印每一个元素的平方根"
   ],
   "metadata": {
    "execution": {
     "iopub.status.busy": "2021-12-09T08:00:41.304538Z",
     "iopub.execute_input": "2021-12-09T08:00:41.304787Z",
     "iopub.status.idle": "2021-12-09T08:00:41.321728Z",
     "shell.execute_reply.started": "2021-12-09T08:00:41.304760Z",
     "shell.execute_reply": "2021-12-09T08:00:41.320444Z"
    },
    "trusted": true,
    "ExecuteTime": {
     "end_time": "2025-03-24T06:02:31.641305800Z",
     "start_time": "2025-03-24T06:02:31.548650600Z"
    }
   },
   "execution_count": 9,
   "outputs": [
    {
     "name": "stdout",
     "output_type": "stream",
     "text": [
      "[[1.73205081 2.         2.23606798]\n",
      " [2.44948974 2.64575131 2.82842712]]\n"
     ]
    }
   ]
  },
  {
   "cell_type": "code",
   "source": [
    "print (array_07,'形状是', array_07.shape) \n",
    "print (array_07.reshape(3,2), '形状是', array_07.reshape(3,2).shape)"
   ],
   "metadata": {
    "execution": {
     "iopub.status.busy": "2021-12-09T08:00:41.323115Z",
     "iopub.execute_input": "2021-12-09T08:00:41.323783Z",
     "iopub.status.idle": "2021-12-09T08:00:41.338548Z",
     "shell.execute_reply.started": "2021-12-09T08:00:41.323738Z",
     "shell.execute_reply": "2021-12-09T08:00:41.337154Z"
    },
    "trusted": true,
    "ExecuteTime": {
     "end_time": "2025-03-24T06:02:31.689904600Z",
     "start_time": "2025-03-24T06:02:31.580305900Z"
    }
   },
   "execution_count": 10,
   "outputs": [
    {
     "name": "stdout",
     "output_type": "stream",
     "text": [
      "[[3 4 5]\n",
      " [6 7 8]] 形状是 (2, 3)\n",
      "[[3 4]\n",
      " [5 6]\n",
      " [7 8]] 形状是 (3, 2)\n"
     ]
    }
   ]
  },
  {
   "cell_type": "code",
   "source": [
    "array_07 = array_07.reshape(3,2) #进行赋值才能改变数组本身"
   ],
   "metadata": {
    "execution": {
     "iopub.status.busy": "2021-12-09T08:00:41.339539Z",
     "iopub.execute_input": "2021-12-09T08:00:41.339769Z",
     "iopub.status.idle": "2021-12-09T08:00:41.351255Z",
     "shell.execute_reply.started": "2021-12-09T08:00:41.339743Z",
     "shell.execute_reply": "2021-12-09T08:00:41.350587Z"
    },
    "trusted": true,
    "ExecuteTime": {
     "end_time": "2025-03-24T06:02:31.808534900Z",
     "start_time": "2025-03-24T06:02:31.622482Z"
    }
   },
   "execution_count": 11,
   "outputs": []
  },
  {
   "cell_type": "code",
   "source": [
    "array_07 = np.array([[1,2,3],[4,5,6]])\n",
    "array_07 = array_07.T # 矩阵的转置\n",
    "print (array_07, ' 矩阵转置后形状是', array_07.shape)"
   ],
   "metadata": {
    "execution": {
     "iopub.status.busy": "2021-12-09T08:00:41.352565Z",
     "iopub.execute_input": "2021-12-09T08:00:41.353252Z",
     "iopub.status.idle": "2021-12-09T08:00:41.368047Z",
     "shell.execute_reply.started": "2021-12-09T08:00:41.353199Z",
     "shell.execute_reply": "2021-12-09T08:00:41.367122Z"
    },
    "trusted": true,
    "ExecuteTime": {
     "end_time": "2025-03-24T06:02:31.904949200Z",
     "start_time": "2025-03-24T06:02:31.643629100Z"
    }
   },
   "execution_count": 12,
   "outputs": [
    {
     "name": "stdout",
     "output_type": "stream",
     "text": [
      "[[1 4]\n",
      " [2 5]\n",
      " [3 6]]  矩阵转置后形状是 (3, 2)\n"
     ]
    }
   ]
  },
  {
   "cell_type": "code",
   "source": [
    "array_06 = np.arange(10)\n",
    "print (array_06,'形状是', array_06.shape,'阶为', array_06.ndim) \n",
    "array_06 = array_06.reshape(10,1)\n",
    "print (array_06,'形状是', array_06.shape,'阶为', array_06.ndim)\n"
   ],
   "metadata": {
    "execution": {
     "iopub.status.busy": "2021-12-09T08:00:41.368970Z",
     "iopub.execute_input": "2021-12-09T08:00:41.369185Z",
     "iopub.status.idle": "2021-12-09T08:00:41.382164Z",
     "shell.execute_reply.started": "2021-12-09T08:00:41.369159Z",
     "shell.execute_reply": "2021-12-09T08:00:41.381267Z"
    },
    "trusted": true,
    "ExecuteTime": {
     "end_time": "2025-03-24T06:02:31.906033500Z",
     "start_time": "2025-03-24T06:02:31.669126500Z"
    }
   },
   "execution_count": 13,
   "outputs": [
    {
     "name": "stdout",
     "output_type": "stream",
     "text": [
      "[0 1 2 3 4 5 6 7 8 9] 形状是 (10,) 阶为 1\n",
      "[[0]\n",
      " [1]\n",
      " [2]\n",
      " [3]\n",
      " [4]\n",
      " [5]\n",
      " [6]\n",
      " [7]\n",
      " [8]\n",
      " [9]] 形状是 (10, 1) 阶为 2\n"
     ]
    }
   ]
  },
  {
   "cell_type": "code",
   "source": [
    "array_08 = np.array([[0,0,0], [10,10,10], [20,20,20], [30,30,30]])\n",
    "array_09 = np.array([[0,1,2]])\n",
    "array_10 = np.array([[0],[1],[2],[3]])\n",
    "list_11 = [[0,1,2]]\n",
    "print ('array_08的形状:', array_08.shape)\n",
    "print ('array_09的形状:', array_09.shape)\n",
    "print ('array_10的形状:', array_10.shape)\n",
    "array_12 = array_09.reshape(3)\n",
    "print ('array_12的形状:', array_12.shape)\n",
    "array_13 = np.array([1])\n",
    "print ('array_13的形状:', array_13.shape)\n",
    "array_14 = array_13.reshape(1,1)\n",
    "print ('array_14的形状:', array_14.shape)\n",
    "print ('08 + 09结果：',array_08 + array_09)\n",
    "print ('08 + 10结果：',array_08 + array_10)\n",
    "print ('08 + 11结果：',array_08 + list_11)\n",
    "print ('08 + 12结果：',array_08 + array_12)\n",
    "print ('08 + 13结果：',array_08 + array_13)\n",
    "print ('08 + 14结果：',array_08 + array_14)"
   ],
   "metadata": {
    "execution": {
     "iopub.status.busy": "2021-12-09T08:00:41.384984Z",
     "iopub.execute_input": "2021-12-09T08:00:41.385231Z",
     "iopub.status.idle": "2021-12-09T08:00:41.401669Z",
     "shell.execute_reply.started": "2021-12-09T08:00:41.385205Z",
     "shell.execute_reply": "2021-12-09T08:00:41.400141Z"
    },
    "trusted": true,
    "ExecuteTime": {
     "end_time": "2025-03-24T06:02:32.006327700Z",
     "start_time": "2025-03-24T06:02:31.719257600Z"
    }
   },
   "execution_count": 14,
   "outputs": [
    {
     "name": "stdout",
     "output_type": "stream",
     "text": [
      "array_08的形状: (4, 3)\n",
      "array_09的形状: (1, 3)\n",
      "array_10的形状: (4, 1)\n",
      "array_12的形状: (3,)\n",
      "array_13的形状: (1,)\n",
      "array_14的形状: (1, 1)\n",
      "08 + 09结果： [[ 0  1  2]\n",
      " [10 11 12]\n",
      " [20 21 22]\n",
      " [30 31 32]]\n",
      "08 + 10结果： [[ 0  0  0]\n",
      " [11 11 11]\n",
      " [22 22 22]\n",
      " [33 33 33]]\n",
      "08 + 11结果： [[ 0  1  2]\n",
      " [10 11 12]\n",
      " [20 21 22]\n",
      " [30 31 32]]\n",
      "08 + 12结果： [[ 0  1  2]\n",
      " [10 11 12]\n",
      " [20 21 22]\n",
      " [30 31 32]]\n",
      "08 + 13结果： [[ 1  1  1]\n",
      " [11 11 11]\n",
      " [21 21 21]\n",
      " [31 31 31]]\n",
      "08 + 14结果： [[ 1  1  1]\n",
      " [11 11 11]\n",
      " [21 21 21]\n",
      " [31 31 31]]\n"
     ]
    }
   ]
  },
  {
   "cell_type": "code",
   "source": [
    "vector_01 = np.array([1,2,3])\n",
    "vector_02 = np.array([[1],[2],[3]])\n",
    "vector_03 = np.array([2])\n",
    "vector_04 = vector_02.reshape(1,3)\n",
    "print ('vector_01的形状:', vector_01.shape)\n",
    "print ('vector_02的形状:', vector_02.shape)\n",
    "print ('vector_03的形状:', vector_03.shape)\n",
    "print ('vector_04的形状:', vector_04.shape)\n",
    "print ('01和01的点积:', np.dot(vector_01,vector_01))\n",
    "print ('01和02的点积:', np.dot(vector_01,vector_02))\n",
    "print ('04和02的点积:', np.dot(vector_04,vector_02))\n",
    "print ('01和数字的点积:', np.dot(vector_01,2))\n",
    "print ('02和03的点积:', np.dot(vector_02,vector_03))\n",
    "print ('02和04的点积:', np.dot(vector_02,vector_04))\n",
    "# print ('01和03的点积:', np.dot(vector_01,vector_03)) # 程序会报错\n",
    "# print ('02和02的点积:', np.dot(vector_02,vector_02))"
   ],
   "metadata": {
    "execution": {
     "iopub.status.busy": "2021-12-09T08:00:41.403169Z",
     "iopub.execute_input": "2021-12-09T08:00:41.403424Z",
     "iopub.status.idle": "2021-12-09T08:00:41.422522Z",
     "shell.execute_reply.started": "2021-12-09T08:00:41.403375Z",
     "shell.execute_reply": "2021-12-09T08:00:41.421481Z"
    },
    "trusted": true,
    "ExecuteTime": {
     "end_time": "2025-03-24T06:02:32.398842900Z",
     "start_time": "2025-03-24T06:02:31.781226200Z"
    }
   },
   "execution_count": 15,
   "outputs": [
    {
     "name": "stdout",
     "output_type": "stream",
     "text": [
      "vector_01的形状: (3,)\n",
      "vector_02的形状: (3, 1)\n",
      "vector_03的形状: (1,)\n",
      "vector_04的形状: (1, 3)\n",
      "01和01的点积: 14\n",
      "01和02的点积: [14]\n",
      "04和02的点积: [[14]]\n",
      "01和数字的点积: [2 4 6]\n",
      "02和03的点积: [2 4 6]\n",
      "02和04的点积: [[1 2 3]\n",
      " [2 4 6]\n",
      " [3 6 9]]\n"
     ]
    }
   ]
  },
  {
   "cell_type": "code",
   "source": [
    "matrix_01 = np.arange(0,6).reshape(2,3)\n",
    "matrix_02 = np.arange(0,6).reshape(3,2)\n",
    "print(matrix_01)\n",
    "print(matrix_02)\n",
    "print ('01和02的点积:', np.dot(matrix_01,matrix_02))\n",
    "print ('02和01的点积:', np.dot(matrix_02,matrix_01))\n"
   ],
   "metadata": {
    "execution": {
     "iopub.status.busy": "2021-12-09T08:00:41.423904Z",
     "iopub.execute_input": "2021-12-09T08:00:41.424161Z",
     "iopub.status.idle": "2021-12-09T08:00:41.471082Z",
     "shell.execute_reply.started": "2021-12-09T08:00:41.424123Z",
     "shell.execute_reply": "2021-12-09T08:00:41.469781Z"
    },
    "trusted": true,
    "ExecuteTime": {
     "end_time": "2025-03-24T06:03:50.153073100Z",
     "start_time": "2025-03-24T06:03:50.116898200Z"
    }
   },
   "execution_count": 17,
   "outputs": [
    {
     "name": "stdout",
     "output_type": "stream",
     "text": [
      "[[0 1 2]\n",
      " [3 4 5]]\n",
      "[[0 1]\n",
      " [2 3]\n",
      " [4 5]]\n",
      "01和02的点积: [[10 13]\n",
      " [28 40]]\n",
      "02和01的点积: [[ 3  4  5]\n",
      " [ 9 14 19]\n",
      " [15 24 33]]\n"
     ]
    }
   ]
  },
  {
   "cell_type": "code",
   "execution_count": 18,
   "outputs": [
    {
     "ename": "ValueError",
     "evalue": "shapes (2,3) and (2,3) not aligned: 3 (dim 1) != 2 (dim 0)",
     "output_type": "error",
     "traceback": [
      "\u001B[1;31m---------------------------------------------------------------------------\u001B[0m",
      "\u001B[1;31mValueError\u001B[0m                                Traceback (most recent call last)",
      "Cell \u001B[1;32mIn[18], line 1\u001B[0m\n\u001B[1;32m----> 1\u001B[0m \u001B[38;5;28mprint\u001B[39m (\u001B[38;5;124m'\u001B[39m\u001B[38;5;124m01和01的点积:\u001B[39m\u001B[38;5;124m'\u001B[39m, \u001B[43mnp\u001B[49m\u001B[38;5;241;43m.\u001B[39;49m\u001B[43mdot\u001B[49m\u001B[43m(\u001B[49m\u001B[43mmatrix_01\u001B[49m\u001B[43m,\u001B[49m\u001B[43mmatrix_01\u001B[49m\u001B[43m)\u001B[49m)\n",
      "File \u001B[1;32m<__array_function__ internals>:180\u001B[0m, in \u001B[0;36mdot\u001B[1;34m(*args, **kwargs)\u001B[0m\n",
      "\u001B[1;31mValueError\u001B[0m: shapes (2,3) and (2,3) not aligned: 3 (dim 1) != 2 (dim 0)"
     ]
    }
   ],
   "source": [
    "print ('01和01的点积:', np.dot(matrix_01,matrix_01))"
   ],
   "metadata": {
    "collapsed": false,
    "ExecuteTime": {
     "end_time": "2025-03-24T06:03:51.281639400Z",
     "start_time": "2025-03-24T06:03:51.213379700Z"
    }
   }
  },
  {
   "cell_type": "code",
   "execution_count": 19,
   "outputs": [
    {
     "name": "stdout",
     "output_type": "stream",
     "text": [
      "[1 2 3]###\n",
      "[[1]\n",
      " [2]\n",
      " [3]]\n"
     ]
    }
   ],
   "source": [
    "print(vector_01, vector_02, sep='###\\n')"
   ],
   "metadata": {
    "collapsed": false,
    "ExecuteTime": {
     "end_time": "2025-03-24T06:04:41.055019300Z",
     "start_time": "2025-03-24T06:04:40.924005600Z"
    }
   }
  },
  {
   "cell_type": "code",
   "execution_count": 20,
   "outputs": [
    {
     "name": "stdout",
     "output_type": "stream",
     "text": [
      "[14]\n"
     ]
    }
   ],
   "source": [
    "print(vector_01.dot(vector_02))"
   ],
   "metadata": {
    "collapsed": false,
    "ExecuteTime": {
     "end_time": "2025-03-24T06:04:52.851322700Z",
     "start_time": "2025-03-24T06:04:52.816117300Z"
    }
   }
  },
  {
   "cell_type": "code",
   "execution_count": 21,
   "outputs": [
    {
     "name": "stdout",
     "output_type": "stream",
     "text": [
      "[[0 1 2]\n",
      " [3 4 5]]####\n",
      "[[0 1]\n",
      " [2 3]\n",
      " [4 5]]\n",
      "\n",
      " 点积运算 [[10 13]\n",
      " [28 40]]\n"
     ]
    }
   ],
   "source": [
    "print(matrix_01, matrix_02, sep='####\\n')\n",
    "print('\\n 点积运算', matrix_01.dot(matrix_02))"
   ],
   "metadata": {
    "collapsed": false,
    "ExecuteTime": {
     "end_time": "2025-03-24T06:06:12.574506200Z",
     "start_time": "2025-03-24T06:06:12.555680400Z"
    }
   }
  },
  {
   "cell_type": "code",
   "execution_count": null,
   "outputs": [],
   "source": [],
   "metadata": {
    "collapsed": false
   }
  }
 ]
}
