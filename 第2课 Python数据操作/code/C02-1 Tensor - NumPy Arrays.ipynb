{
 "cells": [
  {
   "metadata": {
    "_uuid": "8f2839f25d086af736a60e9eeb907d3b93b6e0e5",
    "_cell_guid": "b1076dfc-b9ad-4769-8c92-a6c4dae69d19",
    "trusted": true,
    "ExecuteTime": {
     "end_time": "2025-03-24T05:56:42.790841200Z",
     "start_time": "2025-03-24T05:56:42.530053800Z"
    }
   },
   "cell_type": "code",
   "source": [
    "import numpy as np #导入NumPy\n",
    "X = np.array(5) # 创建0D张量，也就是标量\n",
    "print(\"X的值\",X)\n",
    "print(\"X的阶\",X.ndim) #ndim属性显示张量轴的个数\n",
    "print(\"X的数据类型\",X.dtype) # dtype属性显示张量数据类型\n",
    "print(\"X的形状\",X.shape) # shape属性显示张量形状"
   ],
   "execution_count": 1,
   "outputs": [
    {
     "name": "stdout",
     "output_type": "stream",
     "text": [
      "X的值 5\n",
      "X的阶 0\n",
      "X的数据类型 int32\n",
      "X的形状 ()\n"
     ]
    }
   ]
  },
  {
   "metadata": {
    "_uuid": "d629ff2d2480ee46fbb7e2d37f6b5fab8052498a",
    "_cell_guid": "79c7e3d0-c299-4dcb-8224-4455121ee9b0",
    "trusted": true,
    "ExecuteTime": {
     "end_time": "2025-03-24T05:56:42.885131900Z",
     "start_time": "2025-03-24T05:56:42.785377600Z"
    }
   },
   "cell_type": "code",
   "source": [
    "n = 0\n",
    "for gender in [0,1]:\n",
    "    n = n + 1 # Python要求4个空格表示语句块缩进"
   ],
   "execution_count": 2,
   "outputs": []
  },
  {
   "cell_type": "code",
   "execution_count": 3,
   "outputs": [
    {
     "data": {
      "text/plain": "2"
     },
     "execution_count": 3,
     "metadata": {},
     "output_type": "execute_result"
    }
   ],
   "source": [
    "n"
   ],
   "metadata": {
    "collapsed": false,
    "ExecuteTime": {
     "end_time": "2025-03-24T05:56:42.915490600Z",
     "start_time": "2025-03-24T05:56:42.805433100Z"
    }
   }
  },
  {
   "metadata": {
    "trusted": true,
    "ExecuteTime": {
     "end_time": "2025-03-24T05:56:42.915490600Z",
     "start_time": "2025-03-24T05:56:42.840427300Z"
    }
   },
   "cell_type": "code",
   "source": [
    "X = np.array([5,6,7,8,9]) #创建1D张量，也就是向量\n",
    "print(\"X的值\",X)\n",
    "print(\"X的阶\",X.ndim) #ndim属性显示张量轴的个数\n",
    "print(\"X的形状\",X.shape) # shape属性显示张量形状"
   ],
   "execution_count": 4,
   "outputs": [
    {
     "name": "stdout",
     "output_type": "stream",
     "text": [
      "X的值 [5 6 7 8 9]\n",
      "X的阶 1\n",
      "X的形状 (5,)\n"
     ]
    }
   ]
  },
  {
   "metadata": {
    "trusted": true,
    "ExecuteTime": {
     "end_time": "2025-03-24T05:56:42.915490600Z",
     "start_time": "2025-03-24T05:56:42.870448100Z"
    }
   },
   "cell_type": "code",
   "source": [
    "X = np.array([5]) # 1维的向量，就是1D数组里面只有一个元素"
   ],
   "execution_count": 5,
   "outputs": []
  },
  {
   "cell_type": "code",
   "execution_count": 6,
   "outputs": [
    {
     "name": "stdout",
     "output_type": "stream",
     "text": [
      "X的值 [5]\n",
      "X的阶 1\n",
      "X的形状 (1,)\n"
     ]
    }
   ],
   "source": [
    "print(\"X的值\",X)\n",
    "print(\"X的阶\",X.ndim) #ndim属性显示张量轴的个数\n",
    "print(\"X的形状\",X.shape) # shape属性显示张量形状"
   ],
   "metadata": {
    "collapsed": false,
    "ExecuteTime": {
     "end_time": "2025-03-24T05:56:42.915490600Z",
     "start_time": "2025-03-24T05:56:42.890318500Z"
    }
   }
  },
  {
   "cell_type": "code",
   "execution_count": 14,
   "outputs": [],
   "source": [
    "from tensorflow.keras.datasets import boston_housing"
   ],
   "metadata": {
    "collapsed": false,
    "ExecuteTime": {
     "end_time": "2025-03-24T06:00:28.550092Z",
     "start_time": "2025-03-24T06:00:28.542070900Z"
    }
   }
  },
  {
   "metadata": {
    "trusted": true,
    "ExecuteTime": {
     "end_time": "2025-03-24T06:00:29.735514900Z",
     "start_time": "2025-03-24T06:00:29.152849100Z"
    }
   },
   "cell_type": "code",
   "source": [
    "# mnist = tf.keras.datasets.boston_housing\n",
    "# from tf.keras.datasets import boston_housing # 波士顿房价数据集\n",
    "(X_train, y_train), (X_test, y_test) = boston_housing.load_data()"
   ],
   "execution_count": 15,
   "outputs": [
    {
     "name": "stdout",
     "output_type": "stream",
     "text": [
      "Downloading data from https://storage.googleapis.com/tensorflow/tf-keras-datasets/boston_housing.npz\n",
      "57344/57026 [==============================] - 0s 1us/step\n"
     ]
    }
   ]
  },
  {
   "metadata": {
    "trusted": true,
    "ExecuteTime": {
     "end_time": "2025-03-24T06:00:38.865250600Z",
     "start_time": "2025-03-24T06:00:38.812566500Z"
    }
   },
   "cell_type": "code",
   "source": [
    "print(\"X_train的形状：\", X_train.shape)\n",
    "print(\"X_train中第一个样本的形状：\", X_train[0].shape)\n",
    "print(\"y_train的形状：\", y_train.shape)"
   ],
   "execution_count": 16,
   "outputs": [
    {
     "name": "stdout",
     "output_type": "stream",
     "text": [
      "X_train的形状： (404, 13)\n",
      "X_train中第一个样本的形状： (13,)\n",
      "y_train的形状： (404,)\n"
     ]
    }
   ]
  },
  {
   "metadata": {
    "trusted": true,
    "ExecuteTime": {
     "end_time": "2025-03-24T06:00:39.792928900Z",
     "start_time": "2025-03-24T06:00:39.726145300Z"
    }
   },
   "cell_type": "code",
   "source": [
    "weight = np.array([1,-1.8,1,1,2]) # 权重向量(也就是多项式的参数)\n",
    "X = np.array([1,6,7,8,9]) # 特征向量(也就是一个特定样本中的特征值)\n",
    "y_hat = np.dot(X,weight) # 通过点积运算构建预测函数\n",
    "print('函数返回结果:', y_hat) # 输出预测结果"
   ],
   "execution_count": 17,
   "outputs": [
    {
     "name": "stdout",
     "output_type": "stream",
     "text": [
      "函数返回结果: 23.2\n"
     ]
    }
   ]
  },
  {
   "metadata": {
    "trusted": true,
    "ExecuteTime": {
     "end_time": "2025-03-24T06:00:40.585095500Z",
     "start_time": "2025-03-24T06:00:40.561288Z"
    }
   },
   "cell_type": "code",
   "source": [
    "y_hat = weight.dot(X) # X.dot(weight)也可以实现同样结果"
   ],
   "execution_count": 18,
   "outputs": []
  },
  {
   "metadata": {
    "trusted": true,
    "ExecuteTime": {
     "end_time": "2025-03-24T06:00:41.044200100Z",
     "start_time": "2025-03-24T06:00:41.021721100Z"
    }
   },
   "cell_type": "code",
   "source": [
    "print(\"X_train的内容：\", X_train) #X_train是2D张量，即矩阵"
   ],
   "execution_count": 19,
   "outputs": [
    {
     "name": "stdout",
     "output_type": "stream",
     "text": [
      "X_train的内容： [[1.23247e+00 0.00000e+00 8.14000e+00 ... 2.10000e+01 3.96900e+02\n",
      "  1.87200e+01]\n",
      " [2.17700e-02 8.25000e+01 2.03000e+00 ... 1.47000e+01 3.95380e+02\n",
      "  3.11000e+00]\n",
      " [4.89822e+00 0.00000e+00 1.81000e+01 ... 2.02000e+01 3.75520e+02\n",
      "  3.26000e+00]\n",
      " ...\n",
      " [3.46600e-02 3.50000e+01 6.06000e+00 ... 1.69000e+01 3.62250e+02\n",
      "  7.83000e+00]\n",
      " [2.14918e+00 0.00000e+00 1.95800e+01 ... 1.47000e+01 2.61950e+02\n",
      "  1.57900e+01]\n",
      " [1.43900e-02 6.00000e+01 2.93000e+00 ... 1.56000e+01 3.76700e+02\n",
      "  4.38000e+00]]\n"
     ]
    }
   ]
  },
  {
   "cell_type": "code",
   "execution_count": 20,
   "outputs": [
    {
     "data": {
      "text/plain": "23.2"
     },
     "execution_count": 20,
     "metadata": {},
     "output_type": "execute_result"
    }
   ],
   "source": [
    "y_hat"
   ],
   "metadata": {
    "collapsed": false,
    "ExecuteTime": {
     "end_time": "2025-03-24T06:00:41.432065400Z",
     "start_time": "2025-03-24T06:00:41.411957500Z"
    }
   }
  },
  {
   "cell_type": "code",
   "execution_count": 21,
   "outputs": [
    {
     "name": "stdout",
     "output_type": "stream",
     "text": [
      "23.2\n"
     ]
    }
   ],
   "source": [
    "print(y_hat)"
   ],
   "metadata": {
    "collapsed": false,
    "ExecuteTime": {
     "end_time": "2025-03-24T06:00:41.797646900Z",
     "start_time": "2025-03-24T06:00:41.770533300Z"
    }
   }
  },
  {
   "metadata": {
    "trusted": true,
    "ExecuteTime": {
     "end_time": "2025-03-24T06:00:42.302611Z",
     "start_time": "2025-03-24T06:00:42.237127400Z"
    }
   },
   "cell_type": "code",
   "source": [
    "# 创建3D张量\n",
    "X = np.array([[[1, 22, 4, 78, 2],\n",
    "               [2, 59, 6, 56, 1],\n",
    "               [3, 31, 8, 54, 0]],\n",
    "              [[4, 56, 9, 34, 1],\n",
    "               [5, 78, 8, 35, 2],\n",
    "               [6, 34, 7, 36, 0]],\n",
    "              [[7, 45,5, 34, 5],\n",
    "               [8, 53, 6, 35, 4],\n",
    "               [9, 81, 4, 36, 5]]])"
   ],
   "execution_count": 22,
   "outputs": []
  },
  {
   "cell_type": "code",
   "execution_count": null,
   "outputs": [],
   "source": [],
   "metadata": {
    "collapsed": false
   }
  }
 ],
 "metadata": {
  "kernelspec": {
   "language": "python",
   "display_name": "Python 3",
   "name": "python3"
  },
  "language_info": {
   "pygments_lexer": "ipython3",
   "nbconvert_exporter": "python",
   "version": "3.6.4",
   "file_extension": ".py",
   "codemirror_mode": {
    "name": "ipython",
    "version": 3
   },
   "name": "python",
   "mimetype": "text/x-python"
  }
 },
 "nbformat": 4,
 "nbformat_minor": 1
}
