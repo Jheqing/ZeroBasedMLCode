{
 "cells": [
  {
   "metadata": {
    "_cell_guid": "79c7e3d0-c299-4dcb-8224-4455121ee9b0",
    "_uuid": "d629ff2d2480ee46fbb7e2d37f6b5fab8052498a",
    "trusted": true,
    "ExecuteTime": {
     "end_time": "2025-03-24T07:06:16.537362600Z",
     "start_time": "2025-03-24T07:06:10.552007400Z"
    }
   },
   "cell_type": "code",
   "source": [
    "import numpy as np # 导入NumPy数学工具箱\n",
    "import pandas as pd # 导入Pandas数据处理工具箱\n",
    "from tensorflow.keras.datasets import boston_housing #从Keras中导入mnist数据集\n",
    "#读入训练集和测试集\n",
    "(X_train, y_train), (X_test, y_test) = boston_housing.load_data()"
   ],
   "execution_count": 1,
   "outputs": []
  },
  {
   "metadata": {
    "trusted": true,
    "ExecuteTime": {
     "end_time": "2025-03-24T07:06:16.567968500Z",
     "start_time": "2025-03-24T07:06:16.546427100Z"
    }
   },
   "cell_type": "code",
   "source": [
    "print (\"数据集张量形状：\", X_train.shape) #shape方法显示张量的形状\n",
    "print (\"第一个数据样本：\\n\", X_train[0]) #注意Python的索引是从0开始的\n",
    "print (\"第101到200个数据样本：\\n\", X_train[100:199]) #注意Python的索引是从0开始的"
   ],
   "execution_count": 2,
   "outputs": [
    {
     "name": "stdout",
     "output_type": "stream",
     "text": [
      "数据集张量形状： (404, 13)\n",
      "第一个数据样本：\n",
      " [  1.23247   0.        8.14      0.        0.538     6.142    91.7\n",
      "   3.9769    4.      307.       21.      396.9      18.72   ]\n",
      "第101到200个数据样本：\n",
      " [[6.12900e-02 2.00000e+01 3.33000e+00 ... 1.49000e+01 3.77070e+02\n",
      "  3.01000e+00]\n",
      " [5.75290e-01 0.00000e+00 6.20000e+00 ... 1.74000e+01 3.85910e+02\n",
      "  2.47000e+00]\n",
      " [4.75470e-01 0.00000e+00 9.90000e+00 ... 1.84000e+01 3.96230e+02\n",
      "  1.27300e+01]\n",
      " ...\n",
      " [9.06000e-03 9.00000e+01 2.97000e+00 ... 1.53000e+01 3.94720e+02\n",
      "  7.85000e+00]\n",
      " [2.36482e+01 0.00000e+00 1.81000e+01 ... 2.02000e+01 3.96900e+02\n",
      "  2.36900e+01]\n",
      " [4.98100e-02 2.10000e+01 5.64000e+00 ... 1.68000e+01 3.96900e+02\n",
      "  8.43000e+00]]\n"
     ]
    }
   ]
  },
  {
   "metadata": {
    "trusted": true,
    "ExecuteTime": {
     "end_time": "2025-03-24T07:06:16.650995800Z",
     "start_time": "2025-03-24T07:06:16.568725100Z"
    }
   },
   "cell_type": "code",
   "source": [
    "print (\"第一个数据样本的标签：\", y_train[0])"
   ],
   "execution_count": 3,
   "outputs": [
    {
     "name": "stdout",
     "output_type": "stream",
     "text": [
      "第一个数据样本的标签： 15.2\n"
     ]
    }
   ]
  },
  {
   "metadata": {
    "trusted": true,
    "ExecuteTime": {
     "end_time": "2025-03-24T07:06:17.917757500Z",
     "start_time": "2025-03-24T07:06:16.583884700Z"
    }
   },
   "cell_type": "code",
   "source": [
    "A = np.array([1,2,3,4,5]) \n",
    "B = np.array([[5],[4],[3],[2],[1]])\n",
    "print (\"A张量形状：\", A.shape)\n",
    "print (\"B张量形状：\", B.shape)\n",
    "print (\"点积操作：\", A.dot(B))\n",
    "print (\"点积操作：\", B.dot(A)) # 程序会报错"
   ],
   "execution_count": 4,
   "outputs": [
    {
     "name": "stdout",
     "output_type": "stream",
     "text": [
      "A张量形状： (5,)\n",
      "B张量形状： (5, 1)\n",
      "点积操作： [35]\n"
     ]
    },
    {
     "ename": "ValueError",
     "evalue": "shapes (5,1) and (5,) not aligned: 1 (dim 1) != 5 (dim 0)",
     "output_type": "error",
     "traceback": [
      "\u001B[1;31m---------------------------------------------------------------------------\u001B[0m",
      "\u001B[1;31mValueError\u001B[0m                                Traceback (most recent call last)",
      "Cell \u001B[1;32mIn[4], line 6\u001B[0m\n\u001B[0;32m      4\u001B[0m \u001B[38;5;28mprint\u001B[39m (\u001B[38;5;124m\"\u001B[39m\u001B[38;5;124mB张量形状：\u001B[39m\u001B[38;5;124m\"\u001B[39m, B\u001B[38;5;241m.\u001B[39mshape)\n\u001B[0;32m      5\u001B[0m \u001B[38;5;28mprint\u001B[39m (\u001B[38;5;124m\"\u001B[39m\u001B[38;5;124m点积操作：\u001B[39m\u001B[38;5;124m\"\u001B[39m, A\u001B[38;5;241m.\u001B[39mdot(B))\n\u001B[1;32m----> 6\u001B[0m \u001B[38;5;28mprint\u001B[39m (\u001B[38;5;124m\"\u001B[39m\u001B[38;5;124m点积操作：\u001B[39m\u001B[38;5;124m\"\u001B[39m, \u001B[43mB\u001B[49m\u001B[38;5;241;43m.\u001B[39;49m\u001B[43mdot\u001B[49m\u001B[43m(\u001B[49m\u001B[43mA\u001B[49m\u001B[43m)\u001B[49m) \u001B[38;5;66;03m# 程序会报错\u001B[39;00m\n",
      "\u001B[1;31mValueError\u001B[0m: shapes (5,1) and (5,) not aligned: 1 (dim 1) != 5 (dim 0)"
     ]
    }
   ]
  }
 ],
 "metadata": {
  "kernelspec": {
   "display_name": "Python 3",
   "language": "python",
   "name": "python3"
  },
  "language_info": {
   "name": "python",
   "version": "3.6.4",
   "mimetype": "text/x-python",
   "codemirror_mode": {
    "name": "ipython",
    "version": 3
   },
   "pygments_lexer": "ipython3",
   "nbconvert_exporter": "python",
   "file_extension": ".py"
  }
 },
 "nbformat": 4,
 "nbformat_minor": 1
}
