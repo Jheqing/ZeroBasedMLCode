{
 "cells": [
  {
   "metadata": {
    "trusted": true,
    "ExecuteTime": {
     "end_time": "2025-03-26T08:35:48.096794600Z",
     "start_time": "2025-03-26T08:35:48.048671900Z"
    }
   },
   "cell_type": "code",
   "source": [
    "import numpy as np # 导入NumPy数学工具箱\n",
    "import pandas as pd # 导入Pandas数据处理工具箱\n",
    "df_heart = pd.read_csv(\"../dataset/heart.csv\")  # 读取文件\n",
    "df_heart.head() # 显示前5行数据"
   ],
   "execution_count": 2,
   "outputs": [
    {
     "data": {
      "text/plain": "   age  sex  cp  trestbps  chol  fbs  restecg  thalach  exang  oldpeak  slope  \\\n0   63    1   3       145   233    1        0      150      0      2.3      0   \n1   37    1   2       130   250    0        1      187      0      3.5      0   \n2   41    0   1       130   204    0        0      172      0      1.4      2   \n3   56    1   1       120   236    0        1      178      0      0.8      2   \n4   57    0   0       120   354    0        1      163      1      0.6      2   \n\n   ca  thal  target  \n0   0     1       1  \n1   0     2       1  \n2   0     2       1  \n3   0     2       1  \n4   0     2       1  ",
      "text/html": "<div>\n<style scoped>\n    .dataframe tbody tr th:only-of-type {\n        vertical-align: middle;\n    }\n\n    .dataframe tbody tr th {\n        vertical-align: top;\n    }\n\n    .dataframe thead th {\n        text-align: right;\n    }\n</style>\n<table border=\"1\" class=\"dataframe\">\n  <thead>\n    <tr style=\"text-align: right;\">\n      <th></th>\n      <th>age</th>\n      <th>sex</th>\n      <th>cp</th>\n      <th>trestbps</th>\n      <th>chol</th>\n      <th>fbs</th>\n      <th>restecg</th>\n      <th>thalach</th>\n      <th>exang</th>\n      <th>oldpeak</th>\n      <th>slope</th>\n      <th>ca</th>\n      <th>thal</th>\n      <th>target</th>\n    </tr>\n  </thead>\n  <tbody>\n    <tr>\n      <th>0</th>\n      <td>63</td>\n      <td>1</td>\n      <td>3</td>\n      <td>145</td>\n      <td>233</td>\n      <td>1</td>\n      <td>0</td>\n      <td>150</td>\n      <td>0</td>\n      <td>2.3</td>\n      <td>0</td>\n      <td>0</td>\n      <td>1</td>\n      <td>1</td>\n    </tr>\n    <tr>\n      <th>1</th>\n      <td>37</td>\n      <td>1</td>\n      <td>2</td>\n      <td>130</td>\n      <td>250</td>\n      <td>0</td>\n      <td>1</td>\n      <td>187</td>\n      <td>0</td>\n      <td>3.5</td>\n      <td>0</td>\n      <td>0</td>\n      <td>2</td>\n      <td>1</td>\n    </tr>\n    <tr>\n      <th>2</th>\n      <td>41</td>\n      <td>0</td>\n      <td>1</td>\n      <td>130</td>\n      <td>204</td>\n      <td>0</td>\n      <td>0</td>\n      <td>172</td>\n      <td>0</td>\n      <td>1.4</td>\n      <td>2</td>\n      <td>0</td>\n      <td>2</td>\n      <td>1</td>\n    </tr>\n    <tr>\n      <th>3</th>\n      <td>56</td>\n      <td>1</td>\n      <td>1</td>\n      <td>120</td>\n      <td>236</td>\n      <td>0</td>\n      <td>1</td>\n      <td>178</td>\n      <td>0</td>\n      <td>0.8</td>\n      <td>2</td>\n      <td>0</td>\n      <td>2</td>\n      <td>1</td>\n    </tr>\n    <tr>\n      <th>4</th>\n      <td>57</td>\n      <td>0</td>\n      <td>0</td>\n      <td>120</td>\n      <td>354</td>\n      <td>0</td>\n      <td>1</td>\n      <td>163</td>\n      <td>1</td>\n      <td>0.6</td>\n      <td>2</td>\n      <td>0</td>\n      <td>2</td>\n      <td>1</td>\n    </tr>\n  </tbody>\n</table>\n</div>"
     },
     "execution_count": 2,
     "metadata": {},
     "output_type": "execute_result"
    }
   ]
  },
  {
   "metadata": {
    "trusted": true,
    "ExecuteTime": {
     "end_time": "2025-03-26T08:36:11.932319200Z",
     "start_time": "2025-03-26T08:36:11.816232300Z"
    }
   },
   "cell_type": "code",
   "source": [
    "import matplotlib.pyplot as plt\n",
    "import seaborn as sns #导入seaborn画图工具箱\n",
    "sns.countplot(x=\"target\", data=df_heart, palette=\"bwr\")\n",
    "plt.show()"
   ],
   "execution_count": 4,
   "outputs": [
    {
     "ename": "AttributeError",
     "evalue": "module 'numpy' has no attribute 'float'.\n`np.float` was a deprecated alias for the builtin `float`. To avoid this error in existing code, use `float` by itself. Doing this will not modify any behavior and is safe. If you specifically wanted the numpy scalar type, use `np.float64` here.\nThe aliases was originally deprecated in NumPy 1.20; for more details and guidance see the original release note at:\n    https://numpy.org/devdocs/release/1.20.0-notes.html#deprecations",
     "output_type": "error",
     "traceback": [
      "\u001B[1;31m---------------------------------------------------------------------------\u001B[0m",
      "\u001B[1;31mAttributeError\u001B[0m                            Traceback (most recent call last)",
      "File \u001B[1;32m~\\.conda\\envs\\tf\\lib\\site-packages\\seaborn\\utils.py:531\u001B[0m, in \u001B[0;36mcategorical_order\u001B[1;34m(values, order)\u001B[0m\n\u001B[0;32m    530\u001B[0m \u001B[38;5;28;01mtry\u001B[39;00m:\n\u001B[1;32m--> 531\u001B[0m     order \u001B[38;5;241m=\u001B[39m \u001B[43mvalues\u001B[49m\u001B[38;5;241;43m.\u001B[39;49m\u001B[43mcat\u001B[49m\u001B[38;5;241m.\u001B[39mcategories\n\u001B[0;32m    532\u001B[0m \u001B[38;5;28;01mexcept\u001B[39;00m (\u001B[38;5;167;01mTypeError\u001B[39;00m, \u001B[38;5;167;01mAttributeError\u001B[39;00m):\n",
      "File \u001B[1;32m~\\.conda\\envs\\tf\\lib\\site-packages\\pandas\\core\\generic.py:5478\u001B[0m, in \u001B[0;36mNDFrame.__getattr__\u001B[1;34m(self, name)\u001B[0m\n\u001B[0;32m   5477\u001B[0m     \u001B[38;5;28;01mreturn\u001B[39;00m \u001B[38;5;28mself\u001B[39m[name]\n\u001B[1;32m-> 5478\u001B[0m \u001B[38;5;28;01mreturn\u001B[39;00m \u001B[38;5;28;43mobject\u001B[39;49m\u001B[38;5;241;43m.\u001B[39;49m\u001B[38;5;21;43m__getattribute__\u001B[39;49m\u001B[43m(\u001B[49m\u001B[38;5;28;43mself\u001B[39;49m\u001B[43m,\u001B[49m\u001B[43m \u001B[49m\u001B[43mname\u001B[49m\u001B[43m)\u001B[49m\n",
      "File \u001B[1;32m~\\.conda\\envs\\tf\\lib\\site-packages\\pandas\\core\\accessor.py:181\u001B[0m, in \u001B[0;36mCachedAccessor.__get__\u001B[1;34m(self, obj, cls)\u001B[0m\n\u001B[0;32m    180\u001B[0m     \u001B[38;5;28;01mreturn\u001B[39;00m \u001B[38;5;28mself\u001B[39m\u001B[38;5;241m.\u001B[39m_accessor\n\u001B[1;32m--> 181\u001B[0m accessor_obj \u001B[38;5;241m=\u001B[39m \u001B[38;5;28;43mself\u001B[39;49m\u001B[38;5;241;43m.\u001B[39;49m\u001B[43m_accessor\u001B[49m\u001B[43m(\u001B[49m\u001B[43mobj\u001B[49m\u001B[43m)\u001B[49m\n\u001B[0;32m    182\u001B[0m \u001B[38;5;66;03m# Replace the property with the accessor object. Inspired by:\u001B[39;00m\n\u001B[0;32m    183\u001B[0m \u001B[38;5;66;03m# https://www.pydanny.com/cached-property.html\u001B[39;00m\n\u001B[0;32m    184\u001B[0m \u001B[38;5;66;03m# We need to use object.__setattr__ because we overwrite __setattr__ on\u001B[39;00m\n\u001B[0;32m    185\u001B[0m \u001B[38;5;66;03m# NDFrame\u001B[39;00m\n",
      "File \u001B[1;32m~\\.conda\\envs\\tf\\lib\\site-packages\\pandas\\core\\arrays\\categorical.py:2600\u001B[0m, in \u001B[0;36mCategoricalAccessor.__init__\u001B[1;34m(self, data)\u001B[0m\n\u001B[0;32m   2599\u001B[0m \u001B[38;5;28;01mdef\u001B[39;00m\u001B[38;5;250m \u001B[39m\u001B[38;5;21m__init__\u001B[39m(\u001B[38;5;28mself\u001B[39m, data):\n\u001B[1;32m-> 2600\u001B[0m     \u001B[38;5;28;43mself\u001B[39;49m\u001B[38;5;241;43m.\u001B[39;49m\u001B[43m_validate\u001B[49m\u001B[43m(\u001B[49m\u001B[43mdata\u001B[49m\u001B[43m)\u001B[49m\n\u001B[0;32m   2601\u001B[0m     \u001B[38;5;28mself\u001B[39m\u001B[38;5;241m.\u001B[39m_parent \u001B[38;5;241m=\u001B[39m data\u001B[38;5;241m.\u001B[39mvalues\n",
      "File \u001B[1;32m~\\.conda\\envs\\tf\\lib\\site-packages\\pandas\\core\\arrays\\categorical.py:2609\u001B[0m, in \u001B[0;36mCategoricalAccessor._validate\u001B[1;34m(data)\u001B[0m\n\u001B[0;32m   2608\u001B[0m \u001B[38;5;28;01mif\u001B[39;00m \u001B[38;5;129;01mnot\u001B[39;00m is_categorical_dtype(data\u001B[38;5;241m.\u001B[39mdtype):\n\u001B[1;32m-> 2609\u001B[0m     \u001B[38;5;28;01mraise\u001B[39;00m \u001B[38;5;167;01mAttributeError\u001B[39;00m(\u001B[38;5;124m\"\u001B[39m\u001B[38;5;124mCan only use .cat accessor with a \u001B[39m\u001B[38;5;124m'\u001B[39m\u001B[38;5;124mcategory\u001B[39m\u001B[38;5;124m'\u001B[39m\u001B[38;5;124m dtype\u001B[39m\u001B[38;5;124m\"\u001B[39m)\n",
      "\u001B[1;31mAttributeError\u001B[0m: Can only use .cat accessor with a 'category' dtype",
      "\nDuring handling of the above exception, another exception occurred:\n",
      "\u001B[1;31mAttributeError\u001B[0m                            Traceback (most recent call last)",
      "Cell \u001B[1;32mIn[4], line 3\u001B[0m\n\u001B[0;32m      1\u001B[0m \u001B[38;5;28;01mimport\u001B[39;00m\u001B[38;5;250m \u001B[39m\u001B[38;5;21;01mmatplotlib\u001B[39;00m\u001B[38;5;21;01m.\u001B[39;00m\u001B[38;5;21;01mpyplot\u001B[39;00m\u001B[38;5;250m \u001B[39m\u001B[38;5;28;01mas\u001B[39;00m\u001B[38;5;250m \u001B[39m\u001B[38;5;21;01mplt\u001B[39;00m\n\u001B[0;32m      2\u001B[0m \u001B[38;5;28;01mimport\u001B[39;00m\u001B[38;5;250m \u001B[39m\u001B[38;5;21;01mseaborn\u001B[39;00m\u001B[38;5;250m \u001B[39m\u001B[38;5;28;01mas\u001B[39;00m\u001B[38;5;250m \u001B[39m\u001B[38;5;21;01msns\u001B[39;00m \u001B[38;5;66;03m#导入seaborn画图工具箱\u001B[39;00m\n\u001B[1;32m----> 3\u001B[0m \u001B[43msns\u001B[49m\u001B[38;5;241;43m.\u001B[39;49m\u001B[43mcountplot\u001B[49m\u001B[43m(\u001B[49m\u001B[43mx\u001B[49m\u001B[38;5;241;43m=\u001B[39;49m\u001B[38;5;124;43m\"\u001B[39;49m\u001B[38;5;124;43mtarget\u001B[39;49m\u001B[38;5;124;43m\"\u001B[39;49m\u001B[43m,\u001B[49m\u001B[43m \u001B[49m\u001B[43mdata\u001B[49m\u001B[38;5;241;43m=\u001B[39;49m\u001B[43mdf_heart\u001B[49m\u001B[43m,\u001B[49m\u001B[43m \u001B[49m\u001B[43mpalette\u001B[49m\u001B[38;5;241;43m=\u001B[39;49m\u001B[38;5;124;43m\"\u001B[39;49m\u001B[38;5;124;43mbwr\u001B[39;49m\u001B[38;5;124;43m\"\u001B[39;49m\u001B[43m)\u001B[49m\n\u001B[0;32m      4\u001B[0m plt\u001B[38;5;241m.\u001B[39mshow()\n",
      "File \u001B[1;32m~\\.conda\\envs\\tf\\lib\\site-packages\\seaborn\\categorical.py:3552\u001B[0m, in \u001B[0;36mcountplot\u001B[1;34m(x, y, hue, data, order, hue_order, orient, color, palette, saturation, dodge, ax, **kwargs)\u001B[0m\n\u001B[0;32m   3549\u001B[0m \u001B[38;5;28;01melse\u001B[39;00m:\n\u001B[0;32m   3550\u001B[0m     \u001B[38;5;28;01mraise\u001B[39;00m \u001B[38;5;167;01mTypeError\u001B[39;00m(\u001B[38;5;124m\"\u001B[39m\u001B[38;5;124mMust pass values for either `x` or `y`\u001B[39m\u001B[38;5;124m\"\u001B[39m)\n\u001B[1;32m-> 3552\u001B[0m plotter \u001B[38;5;241m=\u001B[39m \u001B[43m_BarPlotter\u001B[49m\u001B[43m(\u001B[49m\u001B[43mx\u001B[49m\u001B[43m,\u001B[49m\u001B[43m \u001B[49m\u001B[43my\u001B[49m\u001B[43m,\u001B[49m\u001B[43m \u001B[49m\u001B[43mhue\u001B[49m\u001B[43m,\u001B[49m\u001B[43m \u001B[49m\u001B[43mdata\u001B[49m\u001B[43m,\u001B[49m\u001B[43m \u001B[49m\u001B[43morder\u001B[49m\u001B[43m,\u001B[49m\u001B[43m \u001B[49m\u001B[43mhue_order\u001B[49m\u001B[43m,\u001B[49m\n\u001B[0;32m   3553\u001B[0m \u001B[43m                      \u001B[49m\u001B[43mestimator\u001B[49m\u001B[43m,\u001B[49m\u001B[43m \u001B[49m\u001B[43mci\u001B[49m\u001B[43m,\u001B[49m\u001B[43m \u001B[49m\u001B[43mn_boot\u001B[49m\u001B[43m,\u001B[49m\u001B[43m \u001B[49m\u001B[43munits\u001B[49m\u001B[43m,\u001B[49m\u001B[43m \u001B[49m\u001B[43mseed\u001B[49m\u001B[43m,\u001B[49m\n\u001B[0;32m   3554\u001B[0m \u001B[43m                      \u001B[49m\u001B[43morient\u001B[49m\u001B[43m,\u001B[49m\u001B[43m \u001B[49m\u001B[43mcolor\u001B[49m\u001B[43m,\u001B[49m\u001B[43m \u001B[49m\u001B[43mpalette\u001B[49m\u001B[43m,\u001B[49m\u001B[43m \u001B[49m\u001B[43msaturation\u001B[49m\u001B[43m,\u001B[49m\n\u001B[0;32m   3555\u001B[0m \u001B[43m                      \u001B[49m\u001B[43merrcolor\u001B[49m\u001B[43m,\u001B[49m\u001B[43m \u001B[49m\u001B[43merrwidth\u001B[49m\u001B[43m,\u001B[49m\u001B[43m \u001B[49m\u001B[43mcapsize\u001B[49m\u001B[43m,\u001B[49m\u001B[43m \u001B[49m\u001B[43mdodge\u001B[49m\u001B[43m)\u001B[49m\n\u001B[0;32m   3557\u001B[0m plotter\u001B[38;5;241m.\u001B[39mvalue_label \u001B[38;5;241m=\u001B[39m \u001B[38;5;124m\"\u001B[39m\u001B[38;5;124mcount\u001B[39m\u001B[38;5;124m\"\u001B[39m\n\u001B[0;32m   3559\u001B[0m \u001B[38;5;28;01mif\u001B[39;00m ax \u001B[38;5;129;01mis\u001B[39;00m \u001B[38;5;28;01mNone\u001B[39;00m:\n",
      "File \u001B[1;32m~\\.conda\\envs\\tf\\lib\\site-packages\\seaborn\\categorical.py:1614\u001B[0m, in \u001B[0;36m_BarPlotter.__init__\u001B[1;34m(self, x, y, hue, data, order, hue_order, estimator, ci, n_boot, units, seed, orient, color, palette, saturation, errcolor, errwidth, capsize, dodge)\u001B[0m\n\u001B[0;32m   1609\u001B[0m \u001B[38;5;28;01mdef\u001B[39;00m\u001B[38;5;250m \u001B[39m\u001B[38;5;21m__init__\u001B[39m(\u001B[38;5;28mself\u001B[39m, x, y, hue, data, order, hue_order,\n\u001B[0;32m   1610\u001B[0m              estimator, ci, n_boot, units, seed,\n\u001B[0;32m   1611\u001B[0m              orient, color, palette, saturation, errcolor,\n\u001B[0;32m   1612\u001B[0m              errwidth, capsize, dodge):\n\u001B[0;32m   1613\u001B[0m \u001B[38;5;250m    \u001B[39m\u001B[38;5;124;03m\"\"\"Initialize the plotter.\"\"\"\u001B[39;00m\n\u001B[1;32m-> 1614\u001B[0m     \u001B[38;5;28;43mself\u001B[39;49m\u001B[38;5;241;43m.\u001B[39;49m\u001B[43mestablish_variables\u001B[49m\u001B[43m(\u001B[49m\u001B[43mx\u001B[49m\u001B[43m,\u001B[49m\u001B[43m \u001B[49m\u001B[43my\u001B[49m\u001B[43m,\u001B[49m\u001B[43m \u001B[49m\u001B[43mhue\u001B[49m\u001B[43m,\u001B[49m\u001B[43m \u001B[49m\u001B[43mdata\u001B[49m\u001B[43m,\u001B[49m\u001B[43m \u001B[49m\u001B[43morient\u001B[49m\u001B[43m,\u001B[49m\n\u001B[0;32m   1615\u001B[0m \u001B[43m                             \u001B[49m\u001B[43morder\u001B[49m\u001B[43m,\u001B[49m\u001B[43m \u001B[49m\u001B[43mhue_order\u001B[49m\u001B[43m,\u001B[49m\u001B[43m \u001B[49m\u001B[43munits\u001B[49m\u001B[43m)\u001B[49m\n\u001B[0;32m   1616\u001B[0m     \u001B[38;5;28mself\u001B[39m\u001B[38;5;241m.\u001B[39mestablish_colors(color, palette, saturation)\n\u001B[0;32m   1617\u001B[0m     \u001B[38;5;28mself\u001B[39m\u001B[38;5;241m.\u001B[39mestimate_statistic(estimator, ci, n_boot, seed)\n",
      "File \u001B[1;32m~\\.conda\\envs\\tf\\lib\\site-packages\\seaborn\\categorical.py:200\u001B[0m, in \u001B[0;36m_CategoricalPlotter.establish_variables\u001B[1;34m(self, x, y, hue, data, orient, order, hue_order, units)\u001B[0m\n\u001B[0;32m    197\u001B[0m     group_label \u001B[38;5;241m=\u001B[39m groups\u001B[38;5;241m.\u001B[39mname\n\u001B[0;32m    199\u001B[0m \u001B[38;5;66;03m# Get the order on the categorical axis\u001B[39;00m\n\u001B[1;32m--> 200\u001B[0m group_names \u001B[38;5;241m=\u001B[39m \u001B[43mcategorical_order\u001B[49m\u001B[43m(\u001B[49m\u001B[43mgroups\u001B[49m\u001B[43m,\u001B[49m\u001B[43m \u001B[49m\u001B[43morder\u001B[49m\u001B[43m)\u001B[49m\n\u001B[0;32m    202\u001B[0m \u001B[38;5;66;03m# Group the numeric data\u001B[39;00m\n\u001B[0;32m    203\u001B[0m plot_data, value_label \u001B[38;5;241m=\u001B[39m \u001B[38;5;28mself\u001B[39m\u001B[38;5;241m.\u001B[39m_group_longform(vals, groups,\n\u001B[0;32m    204\u001B[0m                                               group_names)\n",
      "File \u001B[1;32m~\\.conda\\envs\\tf\\lib\\site-packages\\seaborn\\utils.py:538\u001B[0m, in \u001B[0;36mcategorical_order\u001B[1;34m(values, order)\u001B[0m\n\u001B[0;32m    536\u001B[0m     order \u001B[38;5;241m=\u001B[39m pd\u001B[38;5;241m.\u001B[39munique(values)\n\u001B[0;32m    537\u001B[0m \u001B[38;5;28;01mtry\u001B[39;00m:\n\u001B[1;32m--> 538\u001B[0m     np\u001B[38;5;241m.\u001B[39masarray(values)\u001B[38;5;241m.\u001B[39mastype(\u001B[43mnp\u001B[49m\u001B[38;5;241;43m.\u001B[39;49m\u001B[43mfloat\u001B[49m)\n\u001B[0;32m    539\u001B[0m     order \u001B[38;5;241m=\u001B[39m np\u001B[38;5;241m.\u001B[39msort(order)\n\u001B[0;32m    540\u001B[0m \u001B[38;5;28;01mexcept\u001B[39;00m (\u001B[38;5;167;01mValueError\u001B[39;00m, \u001B[38;5;167;01mTypeError\u001B[39;00m):\n",
      "File \u001B[1;32m~\\.conda\\envs\\tf\\lib\\site-packages\\numpy\\__init__.py:353\u001B[0m, in \u001B[0;36m__getattr__\u001B[1;34m(attr)\u001B[0m\n\u001B[0;32m    348\u001B[0m     warnings\u001B[38;5;241m.\u001B[39mwarn(\n\u001B[0;32m    349\u001B[0m         \u001B[38;5;124mf\u001B[39m\u001B[38;5;124m\"\u001B[39m\u001B[38;5;124mIn the future `np.\u001B[39m\u001B[38;5;132;01m{\u001B[39;00mattr\u001B[38;5;132;01m}\u001B[39;00m\u001B[38;5;124m` will be defined as the \u001B[39m\u001B[38;5;124m\"\u001B[39m\n\u001B[0;32m    350\u001B[0m         \u001B[38;5;124m\"\u001B[39m\u001B[38;5;124mcorresponding NumPy scalar.\u001B[39m\u001B[38;5;124m\"\u001B[39m, \u001B[38;5;167;01mFutureWarning\u001B[39;00m, stacklevel\u001B[38;5;241m=\u001B[39m\u001B[38;5;241m2\u001B[39m)\n\u001B[0;32m    352\u001B[0m \u001B[38;5;28;01mif\u001B[39;00m attr \u001B[38;5;129;01min\u001B[39;00m __former_attrs__:\n\u001B[1;32m--> 353\u001B[0m     \u001B[38;5;28;01mraise\u001B[39;00m \u001B[38;5;167;01mAttributeError\u001B[39;00m(__former_attrs__[attr])\n\u001B[0;32m    355\u001B[0m \u001B[38;5;28;01mif\u001B[39;00m attr \u001B[38;5;241m==\u001B[39m \u001B[38;5;124m'\u001B[39m\u001B[38;5;124mtesting\u001B[39m\u001B[38;5;124m'\u001B[39m:\n\u001B[0;32m    356\u001B[0m     \u001B[38;5;28;01mimport\u001B[39;00m\u001B[38;5;250m \u001B[39m\u001B[38;5;21;01mnumpy\u001B[39;00m\u001B[38;5;21;01m.\u001B[39;00m\u001B[38;5;21;01mtesting\u001B[39;00m\u001B[38;5;250m \u001B[39m\u001B[38;5;28;01mas\u001B[39;00m\u001B[38;5;250m \u001B[39m\u001B[38;5;21;01mtesting\u001B[39;00m\n",
      "\u001B[1;31mAttributeError\u001B[0m: module 'numpy' has no attribute 'float'.\n`np.float` was a deprecated alias for the builtin `float`. To avoid this error in existing code, use `float` by itself. Doing this will not modify any behavior and is safe. If you specifically wanted the numpy scalar type, use `np.float64` here.\nThe aliases was originally deprecated in NumPy 1.20; for more details and guidance see the original release note at:\n    https://numpy.org/devdocs/release/1.20.0-notes.html#deprecations"
     ]
    }
   ]
  },
  {
   "metadata": {
    "trusted": true,
    "ExecuteTime": {
     "end_time": "2025-03-26T08:36:12.616884500Z",
     "start_time": "2025-03-26T08:36:12.563003200Z"
    }
   },
   "cell_type": "code",
   "source": [
    "# 将某些特征转换为数值类型的哑变量\n",
    "a = pd.get_dummies(df_heart['cp'], prefix = \"cp\")\n",
    "b = pd.get_dummies(df_heart['thal'], prefix = \"thal\")\n",
    "c = pd.get_dummies(df_heart['slope'], prefix = \"slope\")\n",
    "frames = [df_heart, a, b, c]\n",
    "df_heart = pd.concat(frames, axis = 1)\n",
    "df_heart.head()\n",
    "df_heart = df_heart.drop(columns = ['cp', 'thal', 'slope'])\n",
    "df_heart.head()"
   ],
   "execution_count": 5,
   "outputs": [
    {
     "data": {
      "text/plain": "   age  sex  trestbps  chol  fbs  restecg  thalach  exang  oldpeak  ca  ...  \\\n0   63    1       145   233    1        0      150      0      2.3   0  ...   \n1   37    1       130   250    0        1      187      0      3.5   0  ...   \n2   41    0       130   204    0        0      172      0      1.4   0  ...   \n3   56    1       120   236    0        1      178      0      0.8   0  ...   \n4   57    0       120   354    0        1      163      1      0.6   0  ...   \n\n   cp_1  cp_2  cp_3  thal_0  thal_1  thal_2  thal_3  slope_0  slope_1  slope_2  \n0     0     0     1       0       1       0       0        1        0        0  \n1     0     1     0       0       0       1       0        1        0        0  \n2     1     0     0       0       0       1       0        0        0        1  \n3     1     0     0       0       0       1       0        0        0        1  \n4     0     0     0       0       0       1       0        0        0        1  \n\n[5 rows x 22 columns]",
      "text/html": "<div>\n<style scoped>\n    .dataframe tbody tr th:only-of-type {\n        vertical-align: middle;\n    }\n\n    .dataframe tbody tr th {\n        vertical-align: top;\n    }\n\n    .dataframe thead th {\n        text-align: right;\n    }\n</style>\n<table border=\"1\" class=\"dataframe\">\n  <thead>\n    <tr style=\"text-align: right;\">\n      <th></th>\n      <th>age</th>\n      <th>sex</th>\n      <th>trestbps</th>\n      <th>chol</th>\n      <th>fbs</th>\n      <th>restecg</th>\n      <th>thalach</th>\n      <th>exang</th>\n      <th>oldpeak</th>\n      <th>ca</th>\n      <th>...</th>\n      <th>cp_1</th>\n      <th>cp_2</th>\n      <th>cp_3</th>\n      <th>thal_0</th>\n      <th>thal_1</th>\n      <th>thal_2</th>\n      <th>thal_3</th>\n      <th>slope_0</th>\n      <th>slope_1</th>\n      <th>slope_2</th>\n    </tr>\n  </thead>\n  <tbody>\n    <tr>\n      <th>0</th>\n      <td>63</td>\n      <td>1</td>\n      <td>145</td>\n      <td>233</td>\n      <td>1</td>\n      <td>0</td>\n      <td>150</td>\n      <td>0</td>\n      <td>2.3</td>\n      <td>0</td>\n      <td>...</td>\n      <td>0</td>\n      <td>0</td>\n      <td>1</td>\n      <td>0</td>\n      <td>1</td>\n      <td>0</td>\n      <td>0</td>\n      <td>1</td>\n      <td>0</td>\n      <td>0</td>\n    </tr>\n    <tr>\n      <th>1</th>\n      <td>37</td>\n      <td>1</td>\n      <td>130</td>\n      <td>250</td>\n      <td>0</td>\n      <td>1</td>\n      <td>187</td>\n      <td>0</td>\n      <td>3.5</td>\n      <td>0</td>\n      <td>...</td>\n      <td>0</td>\n      <td>1</td>\n      <td>0</td>\n      <td>0</td>\n      <td>0</td>\n      <td>1</td>\n      <td>0</td>\n      <td>1</td>\n      <td>0</td>\n      <td>0</td>\n    </tr>\n    <tr>\n      <th>2</th>\n      <td>41</td>\n      <td>0</td>\n      <td>130</td>\n      <td>204</td>\n      <td>0</td>\n      <td>0</td>\n      <td>172</td>\n      <td>0</td>\n      <td>1.4</td>\n      <td>0</td>\n      <td>...</td>\n      <td>1</td>\n      <td>0</td>\n      <td>0</td>\n      <td>0</td>\n      <td>0</td>\n      <td>1</td>\n      <td>0</td>\n      <td>0</td>\n      <td>0</td>\n      <td>1</td>\n    </tr>\n    <tr>\n      <th>3</th>\n      <td>56</td>\n      <td>1</td>\n      <td>120</td>\n      <td>236</td>\n      <td>0</td>\n      <td>1</td>\n      <td>178</td>\n      <td>0</td>\n      <td>0.8</td>\n      <td>0</td>\n      <td>...</td>\n      <td>1</td>\n      <td>0</td>\n      <td>0</td>\n      <td>0</td>\n      <td>0</td>\n      <td>1</td>\n      <td>0</td>\n      <td>0</td>\n      <td>0</td>\n      <td>1</td>\n    </tr>\n    <tr>\n      <th>4</th>\n      <td>57</td>\n      <td>0</td>\n      <td>120</td>\n      <td>354</td>\n      <td>0</td>\n      <td>1</td>\n      <td>163</td>\n      <td>1</td>\n      <td>0.6</td>\n      <td>0</td>\n      <td>...</td>\n      <td>0</td>\n      <td>0</td>\n      <td>0</td>\n      <td>0</td>\n      <td>0</td>\n      <td>1</td>\n      <td>0</td>\n      <td>0</td>\n      <td>0</td>\n      <td>1</td>\n    </tr>\n  </tbody>\n</table>\n<p>5 rows × 22 columns</p>\n</div>"
     },
     "execution_count": 5,
     "metadata": {},
     "output_type": "execute_result"
    }
   ]
  },
  {
   "metadata": {
    "trusted": true,
    "ExecuteTime": {
     "end_time": "2025-03-26T08:36:14.017064Z",
     "start_time": "2025-03-26T08:36:13.946189400Z"
    }
   },
   "cell_type": "code",
   "source": [
    "# 构建特征和标签集\n",
    "y = df_heart.target.values\n",
    "X = df_heart.drop(['target'], axis = 1)"
   ],
   "execution_count": 6,
   "outputs": []
  },
  {
   "metadata": {
    "trusted": true,
    "ExecuteTime": {
     "end_time": "2025-03-26T08:36:15.647563Z",
     "start_time": "2025-03-26T08:36:14.869827100Z"
    }
   },
   "cell_type": "code",
   "source": [
    "from sklearn.model_selection import train_test_split # 拆分训练集和测试集\n",
    "X_train, X_test, y_train, y_test = train_test_split(X,y,test_size = 0.2,random_state=0)"
   ],
   "execution_count": 7,
   "outputs": []
  },
  {
   "metadata": {
    "trusted": true,
    "ExecuteTime": {
     "end_time": "2025-03-26T08:36:16.587685600Z",
     "start_time": "2025-03-26T08:36:16.541843700Z"
    }
   },
   "cell_type": "code",
   "source": [
    "# 进行特征缩放\n",
    "from sklearn import preprocessing\n",
    "scaler = preprocessing.MinMaxScaler()\n",
    "X_train = scaler.fit_transform(X_train)\n",
    "X_test = scaler.transform(X_test)"
   ],
   "execution_count": 8,
   "outputs": []
  },
  {
   "metadata": {
    "trusted": true,
    "ExecuteTime": {
     "end_time": "2025-03-26T08:36:19.388741800Z",
     "start_time": "2025-03-26T08:36:17.751734600Z"
    }
   },
   "cell_type": "code",
   "source": [
    "from sklearn.neighbors import KNeighborsClassifier # 导入kNN算法\n",
    "k = 5 # 设定初始K值为5\n",
    "kNN = KNeighborsClassifier(n_neighbors = k)  # kNN模型\n",
    "kNN.fit(X_train, y_train) # 拟合kNN模型\n",
    "y_pred = kNN.predict(X_test) # 预测心脏病结果\n",
    "from sklearn.metrics import (accuracy_score, f1_score, average_precision_score, confusion_matrix) # 导入评估标准\n",
    "print(\"{}NN 预测准确率: {:.2f}%\".format(k, kNN.score(X_test, y_test)*100))\n",
    "print(\"{}NN 预测F1分数: {:.2f}%\".format(k, f1_score(y_test, y_pred)*100))\n",
    "print('kNN 混淆矩阵:\\n', confusion_matrix(y_pred, y_test))"
   ],
   "execution_count": 9,
   "outputs": [
    {
     "name": "stdout",
     "output_type": "stream",
     "text": [
      "5NN 预测准确率: 85.25%\n",
      "5NN 预测F1分数: 86.15%\n",
      "kNN 混淆矩阵:\n",
      " [[24  6]\n",
      " [ 3 28]]\n"
     ]
    }
   ]
  },
  {
   "metadata": {
    "trusted": true,
    "ExecuteTime": {
     "end_time": "2025-03-26T08:36:21.588979700Z",
     "start_time": "2025-03-26T08:36:21.045940700Z"
    }
   },
   "cell_type": "code",
   "source": [
    "# 寻找最佳K值\n",
    "f1_score_list = []\n",
    "acc_score_list = []\n",
    "for i in range(1,15):\n",
    "    kNN = KNeighborsClassifier(n_neighbors = i)  # n_neighbors means k\n",
    "    kNN.fit(X_train, y_train)\n",
    "    acc_score_list.append(kNN.score(X_test, y_test))\n",
    "    y_pred = kNN.predict(X_test) # 预测心脏病结果\n",
    "    f1_score_list.append(f1_score(y_test, y_pred))\n",
    "index = np.arange(1,15,1)\n",
    "plt.plot(index,acc_score_list,c='blue',linestyle='solid')\n",
    "plt.plot(index,f1_score_list,c='red',linestyle='dashed')\n",
    "plt.legend([\"Accuracy\", \"F1 Score\"])\n",
    "plt.xlabel(\"K value\")\n",
    "plt.ylabel(\"Score\")\n",
    "plt.grid('false')\n",
    "plt.show()\n",
    "kNN_acc = max(f1_score_list)*100\n",
    "print(\"Maximum kNN Score is {:.2f}%\".format(kNN_acc))"
   ],
   "execution_count": 10,
   "outputs": [
    {
     "data": {
      "text/plain": "<Figure size 640x480 with 1 Axes>",
      "image/png": "[encoded data removed]"
     },
     "metadata": {},
     "output_type": "display_data"
    },
    {
     "name": "stdout",
     "output_type": "stream",
     "text": [
      "Maximum kNN Score is 89.86%\n"
     ]
    }
   ]
  },
  {
   "metadata": {
    "trusted": true,
    "ExecuteTime": {
     "end_time": "2025-03-26T08:36:23.936150700Z",
     "start_time": "2025-03-26T08:36:23.886350600Z"
    }
   },
   "cell_type": "code",
   "source": [
    "from sklearn.svm import SVC # 导入SVM分类器\n",
    "svm = SVC(random_state = 1)\n",
    "svm.fit(X_train, y_train)\n",
    "y_pred = svm.predict(X_test) # 预测心脏病结果\n",
    "svm_acc = svm.score(X_test,y_test)*100\n",
    "print(\"SVM 预测准确率:: {:.2f}%\".format(svm.score(X_test,y_test)*100))\n",
    "print(\"SVM 预测F1分数: {:.2f}%\".format(f1_score(y_test, y_pred)*100))\n",
    "print('SVM 混淆矩阵:\\n', confusion_matrix(y_pred, y_test))"
   ],
   "execution_count": 11,
   "outputs": [
    {
     "name": "stdout",
     "output_type": "stream",
     "text": [
      "SVM 预测准确率:: 88.52%\n",
      "SVM 预测F1分数: 89.86%\n",
      "SVM 混淆矩阵:\n",
      " [[23  3]\n",
      " [ 4 31]]\n"
     ]
    }
   ]
  },
  {
   "metadata": {
    "trusted": true,
    "ExecuteTime": {
     "start_time": "2025-03-26T08:35:02.465347800Z"
    }
   },
   "cell_type": "code",
   "source": [
    "from sklearn.naive_bayes import GaussianNB # 导入朴素贝叶斯模型\n",
    "nb = GaussianNB()\n",
    "nb.fit(X_train, y_train)\n",
    "y_pred = nb.predict(X_test) # 预测心脏病结果\n",
    "nb_acc = nb.score(X_test,y_test)*100\n",
    "print(\"NB 预测准确率:: {:.2f}%\".format(svm.score(X_test,y_test)*100))\n",
    "print(\"NB 预测F1分数: {:.2f}%\".format(f1_score(y_test, y_pred)*100))\n",
    "print('NB 混淆矩阵:\\n', confusion_matrix(y_pred, y_test))"
   ],
   "execution_count": null,
   "outputs": []
  },
  {
   "metadata": {
    "trusted": true,
    "ExecuteTime": {
     "start_time": "2025-03-26T08:35:02.467349Z"
    }
   },
   "cell_type": "code",
   "source": [
    "from sklearn.tree import DecisionTreeClassifier # 导入决策树分类器\n",
    "dtc = DecisionTreeClassifier()\n",
    "dtc.fit(X_train, y_train)\n",
    "dtc_acc = dtc.score(X_test, y_test)*100\n",
    "y_pred = dtc.predict(X_test) # 预测心脏病结果\n",
    "print(\"Decision Tree Test Accuracy {:.2f}%\".format(dtc_acc))\n",
    "print(\"决策树 预测准确率:: {:.2f}%\".format(dtc.score(X_test, y_test)*100))\n",
    "print(\"决策树 预测F1分数: {:.2f}%\".format(f1_score(y_test, y_pred)*100))\n",
    "print('决策树 混淆矩阵:\\n', confusion_matrix(y_pred, y_test))"
   ],
   "execution_count": null,
   "outputs": []
  },
  {
   "metadata": {
    "trusted": true,
    "ExecuteTime": {
     "start_time": "2025-03-26T08:35:02.471376300Z"
    }
   },
   "cell_type": "code",
   "source": [
    "from sklearn.ensemble import RandomForestClassifier # 导入随机森林分类器\n",
    "rf = RandomForestClassifier(n_estimators = 1000, random_state = 1)\n",
    "rf.fit(X_train, y_train)\n",
    "rf_acc = rf.score(X_test,y_test)*100\n",
    "y_pred = rf.predict(X_test) # 预测心脏病结果\n",
    "print(\"随机森林 预测准确率:: {:.2f}%\".format(rf.score(X_test, y_test)*100))\n",
    "print(\"随机森林 预测F1分数: {:.2f}%\".format(f1_score(y_test, y_pred)*100))\n",
    "\n",
    "print('随机森林 混淆矩阵:\\n', confusion_matrix(y_pred, y_test))"
   ],
   "execution_count": null,
   "outputs": []
  },
  {
   "metadata": {
    "trusted": true,
    "ExecuteTime": {
     "start_time": "2025-03-26T08:35:02.474335100Z"
    }
   },
   "cell_type": "code",
   "source": [
    "from sklearn.linear_model import LogisticRegression # 导入逻辑回归模型\n",
    "lr = LogisticRegression()\n",
    "lr.fit(X_train,y_train) \n",
    "y_pred = lr.predict(X_test) # 预测心脏病结果\n",
    "lr_acc = lr.score(X_test,y_test)*100 \n",
    "lr_f1 = f1_score(y_test, y_pred)*100 \n",
    "print(\"逻辑回归测试集准确率： {:.2f}%\".format(lr_acc))\n",
    "print(\"逻辑回归测试集F1分数: {:.2f}%\".format(lr_f1))\n",
    "print('逻辑回归测试集混淆矩阵:\\n', confusion_matrix(y_test,y_pred))"
   ],
   "execution_count": null,
   "outputs": []
  },
  {
   "metadata": {
    "trusted": true,
    "ExecuteTime": {
     "start_time": "2025-03-26T08:35:02.476275700Z"
    }
   },
   "cell_type": "code",
   "source": [
    "methods = [\"Logistic Regression\", \"kNN\", \"SVM\", \n",
    "           \"Naive Bayes\", \"Decision Tree\", \"Random Forest\"]\n",
    "accuracy = [lr_acc, kNN_acc, svm_acc, nb_acc, dtc_acc, rf_acc]\n",
    "colors = [\"orange\",\"red\",\"purple\", \"magenta\", \"green\",\"blue\"]\n",
    "sns.set_style(\"whitegrid\")\n",
    "plt.figure(figsize=(16,5))\n",
    "plt.yticks(np.arange(0,100,10))\n",
    "plt.ylabel(\"Accuracy %\")\n",
    "plt.xlabel(\"Algorithms\")\n",
    "sns.barplot(x=methods, y=accuracy, palette=colors)\n",
    "plt.grid(b=None)\n",
    "plt.show()"
   ],
   "execution_count": null,
   "outputs": []
  },
  {
   "metadata": {
    "trusted": true,
    "ExecuteTime": {
     "start_time": "2025-03-26T08:35:02.478369100Z"
    }
   },
   "cell_type": "code",
   "source": [
    "# 绘制各算法的混淆矩阵\n",
    "from sklearn.metrics import confusion_matrix\n",
    "y_pred_lr = lr.predict(X_test)\n",
    "kNN3 = KNeighborsClassifier(n_neighbors = 3)\n",
    "kNN3.fit(X_train, y_train)\n",
    "y_pred_kNN = kNN3.predict(X_test)\n",
    "y_pred_svm = svm.predict(X_test)\n",
    "y_pred_nb = nb.predict(X_test)\n",
    "y_pred_dtc = dtc.predict(X_test)\n",
    "y_pred_rf = rf.predict(X_test)\n",
    "cm_lr = confusion_matrix(y_test,y_pred_lr)\n",
    "cm_kNN = confusion_matrix(y_test,y_pred_kNN)\n",
    "cm_svm = confusion_matrix(y_test,y_pred_svm)\n",
    "cm_nb = confusion_matrix(y_test,y_pred_nb)\n",
    "cm_dtc = confusion_matrix(y_test,y_pred_dtc)\n",
    "cm_rf = confusion_matrix(y_test,y_pred_rf)\n",
    "plt.figure(figsize=(24,12))\n",
    "plt.suptitle(\"Confusion Matrixes\",fontsize=24)\n",
    "plt.subplots_adjust(wspace = 0.4, hspace= 0.4)\n",
    "plt.subplot(2,3,1)\n",
    "plt.title(\"Logistic Regression Confusion Matrix\")\n",
    "sns.heatmap(cm_lr,annot=True,cmap=\"Blues\",fmt=\"d\",cbar=False)\n",
    "plt.subplot(2,3,2)\n",
    "plt.title(\"K Nearest Neighbors Confusion Matrix\")\n",
    "sns.heatmap(cm_kNN,annot=True,cmap=\"Blues\",fmt=\"d\",cbar=False)\n",
    "plt.subplot(2,3,3)\n",
    "plt.title(\"Support Vector Machine Confusion Matrix\")\n",
    "sns.heatmap(cm_svm,annot=True,cmap=\"Blues\",fmt=\"d\",cbar=False)\n",
    "plt.subplot(2,3,4)\n",
    "plt.title(\"Naive Bayes Confusion Matrix\")\n",
    "sns.heatmap(cm_nb,annot=True,cmap=\"Blues\",fmt=\"d\",cbar=False)\n",
    "plt.subplot(2,3,5)\n",
    "plt.title(\"Decision Tree Classifier Confusion Matrix\")\n",
    "sns.heatmap(cm_dtc,annot=True,cmap=\"Blues\",fmt=\"d\",cbar=False)\n",
    "plt.subplot(2,3,6)\n",
    "plt.title(\"Random Forest Confusion Matrix\")\n",
    "sns.heatmap(cm_rf,annot=True,cmap=\"Blues\",fmt=\"d\",cbar=False)\n",
    "plt.show()"
   ],
   "execution_count": null,
   "outputs": []
  },
  {
   "metadata": {
    "trusted": true,
    "ExecuteTime": {
     "start_time": "2025-03-26T08:35:02.480403200Z"
    }
   },
   "cell_type": "code",
   "source": [
    "from sklearn.model_selection import StratifiedKFold # 导入K折验证工具\n",
    "from sklearn.model_selection import GridSearchCV # 导入网格搜索工具\n",
    "kfold = StratifiedKFold(n_splits=10) # 10折验证\n",
    "rf = RandomForestClassifier() # 随机森林\n",
    "# 对随机森林算法进行参数优化\n",
    "rf_param_grid = {\"max_depth\": [None],\n",
    "              \"max_features\": [3, 5, 12],\n",
    "              \"min_samples_split\": [2, 5, 10],\n",
    "              \"min_samples_leaf\": [3, 5, 10],\n",
    "              \"bootstrap\": [False],\n",
    "              \"n_estimators\" :[100,300],\n",
    "              \"criterion\": [\"gini\"]}\n",
    "rf_gs = GridSearchCV(rf,param_grid = rf_param_grid, cv=kfold, \n",
    "                    scoring=\"accuracy\", n_jobs= 10, verbose = 1)\n",
    "rf_gs.fit(X_train, y_train) # 用优化后的参数拟合训练数据集"
   ],
   "execution_count": null,
   "outputs": []
  },
  {
   "metadata": {
    "trusted": true,
    "ExecuteTime": {
     "start_time": "2025-03-26T08:35:02.481350200Z"
    }
   },
   "cell_type": "code",
   "source": [
    "from sklearn.metrics import (accuracy_score, confusion_matrix)\n",
    "y_hat_rfgs = rf_gs.predict(X_test) # 用随机森林算法的最佳参数进行预测\n",
    "print(\"参数优化后随机森林测试准确率:\", accuracy_score(y_test.T, y_hat_rfgs))"
   ],
   "execution_count": null,
   "outputs": []
  },
  {
   "metadata": {
    "trusted": true,
    "ExecuteTime": {
     "start_time": "2025-03-26T08:35:02.483329800Z"
    }
   },
   "cell_type": "code",
   "source": [
    "cm_rfgs = confusion_matrix(y_test,y_hat_rfgs) # 显示混淆矩阵\n",
    "plt.figure(figsize=(4,4))\n",
    "plt.title(\"Random Forest (Best Score) Confusion Matrix\")\n",
    "sns.heatmap(cm_rfgs,annot=True,cmap=\"Blues\",fmt=\"d\",cbar=False)"
   ],
   "execution_count": null,
   "outputs": []
  },
  {
   "metadata": {
    "trusted": true,
    "ExecuteTime": {
     "start_time": "2025-03-26T08:35:02.485353Z"
    }
   },
   "cell_type": "code",
   "source": [
    "print(\"最佳参数组合:\",rf_gs.best_params_)"
   ],
   "execution_count": null,
   "outputs": []
  }
 ],
 "metadata": {
  "kernelspec": {
   "language": "python",
   "display_name": "Python 3",
   "name": "python3"
  },
  "language_info": {
   "pygments_lexer": "ipython3",
   "nbconvert_exporter": "python",
   "version": "3.6.4",
   "file_extension": ".py",
   "codemirror_mode": {
    "name": "ipython",
    "version": 3
   },
   "name": "python",
   "mimetype": "text/x-python"
  }
 },
 "nbformat": 4,
 "nbformat_minor": 4
}
