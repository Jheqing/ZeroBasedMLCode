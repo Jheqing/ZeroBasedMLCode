{
 "cells": [
  {
   "metadata": {
    "trusted": true
   },
   "cell_type": "code",
   "source": [
    "import numpy as np # 导入NumPy\n",
    "import pandas as pd # 导入pandas\n",
    "import matplotlib.pyplot as plt # 导入matplotlib\n",
    "x_load = np.load('../input/sign-language-digits-dataset/X.npy') # 导入特征\n",
    "y_load = np.load('../input/sign-language-digits-dataset/Y.npy') # 导入标签\n",
    "img_size = 64 # 设定显示图片的大小\n",
    "image_index_list = [299,999,1699,699,1299,1999,699,499,1111,199]\n",
    "for each in range(10): # 每个Sign选取一张展示   \n",
    "    plt.subplot(2, 5, each+1)\n",
    "    plt.imshow(x_load[image_index_list[each]].reshape(img_size, img_size))\n",
    "    plt.axis('off')\n",
    "    title = \"Sign \" + str(each) \n",
    "    plt.title(title)\n",
    "plt.show() # 显示图片"
   ],
   "execution_count": null,
   "outputs": []
  },
  {
   "metadata": {
    "trusted": true
   },
   "cell_type": "code",
   "source": [
    "from sklearn.decomposition import PCA # 导入sklearn PCA工具\n",
    "X = x_load.reshape((len(x_load), -1)) # Reshaple张量X\n",
    "n_components = 5 # 设定因子个数，因子越多，模型越复杂\n",
    "(n_samples, n_features) = X.shape\n",
    "pca = PCA(n_components=n_components, # PCA工具\n",
    "          svd_solver='randomized', whiten=True)\n",
    "X_pca = pca.fit_transform(X) # PCA降维拟合\n",
    "components_ = pca.components_ # 保留的主要成分因子(也就是被简化的模型)\n",
    "images = components_[:n_components] # 显示降维之后的特征图\n",
    "plt.figure(figsize=(6, 5))\n",
    "for i, comp in enumerate(images):\n",
    "    vmax = max(comp.max(), -comp.min())\n",
    "    plt.imshow(comp.reshape((64, 64)),\n",
    "               interpolation='nearest',vmin=-vmax, vmax=vmax)\n",
    "    plt.xticks(())\n",
    "    plt.yticks(())\n",
    "plt.savefig('graph.png')\n",
    "plt.show()"
   ],
   "execution_count": null,
   "outputs": []
  },
  {
   "metadata": {
    "trusted": true
   },
   "cell_type": "code",
   "source": [
    "X_pca = pca.fit_transform(X)\n",
    "print (X.shape)\n",
    "print (X_pca.shape)"
   ],
   "execution_count": null,
   "outputs": []
  }
 ],
 "metadata": {
  "kernelspec": {
   "language": "python",
   "display_name": "Python 3",
   "name": "python3"
  },
  "language_info": {
   "pygments_lexer": "ipython3",
   "nbconvert_exporter": "python",
   "version": "3.6.4",
   "file_extension": ".py",
   "codemirror_mode": {
    "name": "ipython",
    "version": 3
   },
   "name": "python",
   "mimetype": "text/x-python"
  }
 },
 "nbformat": 4,
 "nbformat_minor": 4
}
