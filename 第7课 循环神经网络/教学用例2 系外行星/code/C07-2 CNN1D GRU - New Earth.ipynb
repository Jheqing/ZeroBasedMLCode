{
 "metadata": {
  "kernelspec": {
   "language": "python",
   "display_name": "Python 3",
   "name": "python3"
  },
  "language_info": {
   "pygments_lexer": "ipython3",
   "nbconvert_exporter": "python",
   "version": "3.6.4",
   "file_extension": ".py",
   "codemirror_mode": {
    "name": "ipython",
    "version": 3
   },
   "name": "python",
   "mimetype": "text/x-python"
  }
 },
 "nbformat_minor": 4,
 "nbformat": 4,
 "cells": [
  {
   "cell_type": "code",
   "source": [
    "import numpy as np # 导入NumPy\n",
    "import pandas as pd # 导入Pandas\n",
    "df_train = pd.read_csv('../input/new-earth/exoTrain.csv') # 导入训练集\n",
    "df_test = pd.read_csv('../input/new-earth/exoTest.csv') # 导入测试集\n",
    "print(df_train.head()) # 输入头几行数据\n",
    "print(df_train.info()) # 输出训练集信息"
   ],
   "metadata": {
    "execution": {
     "iopub.status.busy": "2021-12-08T16:55:54.545461Z",
     "iopub.execute_input": "2021-12-08T16:55:54.545817Z",
     "iopub.status.idle": "2021-12-08T16:56:00.868919Z",
     "shell.execute_reply.started": "2021-12-08T16:55:54.545783Z",
     "shell.execute_reply": "2021-12-08T16:56:00.867862Z"
    },
    "trusted": true
   },
   "execution_count": 46,
   "outputs": []
  },
  {
   "cell_type": "code",
   "source": [
    "from sklearn.utils import shuffle # 导入乱序工具\n",
    "df_train = shuffle(df_train) # 乱序训练集\n",
    "df_test = shuffle(df_test)  # 乱序测试集"
   ],
   "metadata": {
    "execution": {
     "iopub.status.busy": "2021-12-08T16:56:00.870928Z",
     "iopub.execute_input": "2021-12-08T16:56:00.871205Z",
     "iopub.status.idle": "2021-12-08T16:56:00.956882Z",
     "shell.execute_reply.started": "2021-12-08T16:56:00.871173Z",
     "shell.execute_reply": "2021-12-08T16:56:00.955905Z"
    },
    "trusted": true
   },
   "execution_count": 47,
   "outputs": []
  },
  {
   "cell_type": "code",
   "source": [
    "X_train = df_train.iloc[:, 1:].values # 构建特征集（训练）\n",
    "y_train = df_train.iloc[:, 0].values # 构建标签集（训练）\n",
    "X_test = df_test.iloc[:, 1:].values # 构建特征集（测试）\n",
    "y_test = df_test.iloc[:, 0].values # 构建标签集（测试）\n",
    "y_train = y_train - 1 # 标签转换成惯用的(0，1)分类\n",
    "y_test = y_test - 1 # 标签转换成惯用的(0，1)分类\n",
    "print (X_train) # 打印训练集中的特征\n",
    "print (y_train) # 打印训练集中的标签"
   ],
   "metadata": {
    "execution": {
     "iopub.status.busy": "2021-12-08T16:56:00.958263Z",
     "iopub.execute_input": "2021-12-08T16:56:00.958508Z",
     "iopub.status.idle": "2021-12-08T16:56:01.015327Z",
     "shell.execute_reply.started": "2021-12-08T16:56:00.958477Z",
     "shell.execute_reply": "2021-12-08T16:56:01.014636Z"
    },
    "trusted": true
   },
   "execution_count": 48,
   "outputs": []
  },
  {
   "cell_type": "code",
   "source": [
    "X_train = np.expand_dims(X_train, axis=2) # 张量升阶，以满足序列数据集的要求\n",
    "X_test = np.expand_dims(X_test, axis=2) # 张量升阶，以满足序列数据集的要求"
   ],
   "metadata": {
    "execution": {
     "iopub.status.busy": "2021-12-08T16:56:01.016676Z",
     "iopub.execute_input": "2021-12-08T16:56:01.017066Z",
     "iopub.status.idle": "2021-12-08T16:56:01.025286Z",
     "shell.execute_reply.started": "2021-12-08T16:56:01.017032Z",
     "shell.execute_reply": "2021-12-08T16:56:01.024290Z"
    },
    "trusted": true
   },
   "execution_count": 49,
   "outputs": []
  },
  {
   "cell_type": "code",
   "source": [
    "from keras.models import Sequential # 导入序贯模型\n",
    "from keras import layers # 导入所有类型的层\n",
    "from tensorflow.keras.optimizers import Adam # 导入优化器\n",
    "model = Sequential() # 序贯模型\n",
    "model.add(layers.Conv1D(32, kernel_size=10, strides=4,\n",
    "          input_shape=(3197, 1))) # 1D CNN层\n",
    "model.add(layers.MaxPooling1D(pool_size=4, strides=2)) # 池化层\n",
    "model.add(layers.GRU(256, return_sequences=True)) # 关键，GRU层够要大\n",
    "model.add(layers.Flatten()) # 展平\n",
    "model.add(layers.Dropout(0.5)) # Dropout层\n",
    "model.add(layers.BatchNormalization()) # 批标准化   \n",
    "model.add(layers.Dense(1, activation='sigmoid')) # 分类输出层\n",
    "opt = Adam(lr=0.0001, beta_1=0.9, beta_2=0.999, decay=0.01) # 设置优化器\n",
    "model.compile(optimizer=opt, # 优化器\n",
    "              loss = 'binary_crossentropy', # 交叉熵\n",
    "              metrics=['accuracy']) # 准确率"
   ],
   "metadata": {
    "execution": {
     "iopub.status.busy": "2021-12-08T16:56:01.027314Z",
     "iopub.execute_input": "2021-12-08T16:56:01.027734Z",
     "iopub.status.idle": "2021-12-08T16:56:01.336457Z",
     "shell.execute_reply.started": "2021-12-08T16:56:01.027698Z",
     "shell.execute_reply": "2021-12-08T16:56:01.335630Z"
    },
    "trusted": true
   },
   "execution_count": 50,
   "outputs": []
  },
  {
   "cell_type": "code",
   "source": [
    "history = model.fit(X_train,y_train, # 训练集\n",
    "                    validation_split = 0.2, # 部分训练集数据拆分成验证集\n",
    "                    batch_size = 128, # 批量大小\n",
    "                    epochs = 4, # 训练轮次\n",
    "                    shuffle = True) # 乱序"
   ],
   "metadata": {
    "execution": {
     "iopub.status.busy": "2021-12-08T16:56:01.337721Z",
     "iopub.execute_input": "2021-12-08T16:56:01.337945Z",
     "iopub.status.idle": "2021-12-08T16:59:40.295384Z",
     "shell.execute_reply.started": "2021-12-08T16:56:01.337916Z",
     "shell.execute_reply": "2021-12-08T16:59:40.294594Z"
    },
    "trusted": true
   },
   "execution_count": 51,
   "outputs": []
  },
  {
   "cell_type": "code",
   "source": [
    "from sklearn.metrics import classification_report # 分类报告\n",
    "from sklearn.metrics import confusion_matrix # 混淆矩阵\n",
    "y_prob = model.predict(X_test) # 对测试集进行预测\n",
    "y_pred =  np.where(y_prob > 0.5, 1, 0) #将概率值转换成真值\n",
    "cm = confusion_matrix(y_pred, y_test)\n",
    "print('Confusion matrix:\\n', cm, '\\n')\n",
    "print(classification_report(y_pred, y_test))"
   ],
   "metadata": {
    "execution": {
     "iopub.status.busy": "2021-12-08T16:59:40.297091Z",
     "iopub.execute_input": "2021-12-08T16:59:40.297452Z",
     "iopub.status.idle": "2021-12-08T16:59:44.705060Z",
     "shell.execute_reply.started": "2021-12-08T16:59:40.297421Z",
     "shell.execute_reply": "2021-12-08T16:59:44.703250Z"
    },
    "trusted": true
   },
   "execution_count": 52,
   "outputs": []
  },
  {
   "cell_type": "code",
   "source": [
    "# for i in range(len(y_prob)):\n",
    "#      if y_prob[i] >= 0.5: \n",
    "#         y_pred[i] = 1\n",
    "#      else:\n",
    "#         y_pred[i] = 0"
   ],
   "metadata": {
    "execution": {
     "iopub.status.busy": "2021-12-08T16:59:44.707034Z",
     "iopub.execute_input": "2021-12-08T16:59:44.707391Z",
     "iopub.status.idle": "2021-12-08T16:59:44.712718Z",
     "shell.execute_reply.started": "2021-12-08T16:59:44.707340Z",
     "shell.execute_reply": "2021-12-08T16:59:44.711501Z"
    },
    "trusted": true
   },
   "execution_count": 53,
   "outputs": []
  },
  {
   "cell_type": "code",
   "source": [
    "y_pred =  np.where(y_prob > 0.15, 1, 0) # 进行阈值调整\n",
    "cm = confusion_matrix(y_pred, y_test) \n",
    "print('Confusion matrix:\\n', cm, '\\n')\n",
    "print(classification_report(y_pred, y_test))"
   ],
   "metadata": {
    "execution": {
     "iopub.status.busy": "2021-12-08T16:59:44.714794Z",
     "iopub.execute_input": "2021-12-08T16:59:44.715824Z",
     "iopub.status.idle": "2021-12-08T16:59:44.738094Z",
     "shell.execute_reply.started": "2021-12-08T16:59:44.715776Z",
     "shell.execute_reply": "2021-12-08T16:59:44.737009Z"
    },
    "trusted": true
   },
   "execution_count": 54,
   "outputs": []
  },
  {
   "cell_type": "markdown",
   "source": [
    "**下面是两个函数式API的构建代码段，请读者自行研究如何使用函数式API建构更灵活的模型。**"
   ],
   "metadata": {}
  },
  {
   "cell_type": "code",
   "source": [
    "from keras import layers # 导入各种层\n",
    "from keras.models import Model # 导入模型\n",
    "from tensorflow.keras.optimizers import Adam # 导入Adam优化器\n",
    "input = layers.Input(shape=(3197, 1)) # Input\n",
    "# 通过函数式API构建模型\n",
    "x = layers.Conv1D(32, kernel_size=10, strides=4)(input)\n",
    "x = layers.MaxPooling1D(pool_size=4, strides=2)(x)\n",
    "x = layers.GRU(256, return_sequences=True)(x)\n",
    "x = layers.Flatten()(x)\n",
    "x = layers.Dropout(0.5)(x)\n",
    "x = layers.BatchNormalization()(x)\n",
    "output = layers.Dense(1, activation='sigmoid')(x) # Output\n",
    "model = Model(input, output) \n",
    "model.summary() # 显示模型的输出\n",
    "opt = Adam(lr=0.0001, beta_1=0.9, beta_2=0.999, decay=0.01) # 设置优化器\n",
    "model.compile(optimizer=opt, # 优化器\n",
    "              loss = 'binary_crossentropy', # 交叉熵\n",
    "              metrics=['accuracy']) # 准确率"
   ],
   "metadata": {
    "execution": {
     "iopub.status.busy": "2021-12-08T16:59:56.312832Z",
     "iopub.execute_input": "2021-12-08T16:59:56.313854Z",
     "iopub.status.idle": "2021-12-08T16:59:56.583710Z",
     "shell.execute_reply.started": "2021-12-08T16:59:56.313804Z",
     "shell.execute_reply": "2021-12-08T16:59:56.582764Z"
    },
    "trusted": true
   },
   "execution_count": 56,
   "outputs": []
  },
  {
   "cell_type": "code",
   "source": [
    "# 构建正向网络\n",
    "input_1 = layers.Input(shape=(3197, 1))\n",
    "x = layers.GRU(32, return_sequences=True)(input_1)\n",
    "x = layers.Flatten()(x)\n",
    "x = layers.Dropout(0.5)(x)\n",
    "# 构建逆向网络\n",
    "input_2 = layers.Input(shape=(3197, 1))\n",
    "y = layers.GRU(32, return_sequences=True)(input_2)\n",
    "y = layers.Flatten()(y)\n",
    "y = layers.Dropout(0.5)(y)\n",
    "# 连接两个网络\n",
    "z = layers.concatenate([x, y])\n",
    "output = layers.Dense(1, activation='sigmoid')(z)\n",
    "model = Model([input_1,input_2], output)\n",
    "model.summary()"
   ],
   "metadata": {
    "execution": {
     "iopub.status.busy": "2021-12-08T17:01:59.568395Z",
     "iopub.execute_input": "2021-12-08T17:01:59.568776Z",
     "iopub.status.idle": "2021-12-08T17:01:59.994953Z",
     "shell.execute_reply.started": "2021-12-08T17:01:59.568728Z",
     "shell.execute_reply": "2021-12-08T17:01:59.993917Z"
    },
    "trusted": true
   },
   "execution_count": 57,
   "outputs": []
  }
 ]
}
